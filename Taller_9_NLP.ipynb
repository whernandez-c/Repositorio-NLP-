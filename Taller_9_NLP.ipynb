{
  "nbformat": 4,
  "nbformat_minor": 0,
  "metadata": {
    "kernelspec": {
      "display_name": "Python 3",
      "language": "python",
      "name": "python3"
    },
    "language_info": {
      "codemirror_mode": {
        "name": "ipython",
        "version": 3
      },
      "file_extension": ".py",
      "mimetype": "text/x-python",
      "name": "python",
      "nbconvert_exporter": "python",
      "pygments_lexer": "ipython3",
      "version": "3.7.4"
    },
    "colab": {
      "name": "Taller 9 NLP.ipynb",
      "provenance": [],
      "collapsed_sections": []
    }
  },
  "cells": [
    {
      "cell_type": "markdown",
      "metadata": {
        "id": "01Jia5u-Y6Rp"
      },
      "source": [
        "<img src='https://encrypted-tbn0.gstatic.com/images?q=tbn%3AANd9GcQ-VfNtOyJbsaxu43Kztf_cv1mgBG6ZIQZEVw&usqp=CAU'>\n",
        "\n",
        "# Procesamiento de Lenguaje Natural\n",
        "\n",
        "## Taller #9: Modelado de temas\n",
        "`Fecha de entrega: Mayo 6, 2021. (Antes del inicio de la próxima clase).`\n",
        "\n",
        "`Modo de entrega: Subir link de GitHub al aula virtual.`"
      ]
    },
    {
      "cell_type": "code",
      "metadata": {
        "id": "8mG0WeSRaHNB"
      },
      "source": [
        "import re\n",
        "import pandas as pd \n",
        "from pprint import pprint\n"
      ],
      "execution_count": 9,
      "outputs": []
    },
    {
      "cell_type": "code",
      "metadata": {
        "id": "4a79vmRBaMXx"
      },
      "source": [
        "import re\n",
        "import pandas as pd\n",
        "from collections import Counter\n",
        "\n",
        "from nltk.corpus import stopwords"
      ],
      "execution_count": 11,
      "outputs": []
    },
    {
      "cell_type": "code",
      "metadata": {
        "colab": {
          "base_uri": "https://localhost:8080/"
        },
        "id": "mfk1koDuaPqQ",
        "outputId": "794adb19-fb35-49dc-ae50-3de6b149a472"
      },
      "source": [
        "import nltk\n",
        "nltk.download('stopwords')"
      ],
      "execution_count": 12,
      "outputs": [
        {
          "output_type": "stream",
          "text": [
            "[nltk_data] Downloading package stopwords to /root/nltk_data...\n",
            "[nltk_data]   Package stopwords is already up-to-date!\n"
          ],
          "name": "stdout"
        },
        {
          "output_type": "execute_result",
          "data": {
            "text/plain": [
              "True"
            ]
          },
          "metadata": {
            "tags": []
          },
          "execution_count": 12
        }
      ]
    },
    {
      "cell_type": "code",
      "metadata": {
        "id": "iy_A3GkUaRgo"
      },
      "source": [
        "stopwords_sp = stopwords.words('spanish')\n",
        "\n"
      ],
      "execution_count": 13,
      "outputs": []
    },
    {
      "cell_type": "code",
      "metadata": {
        "id": "oZlnIPFydLSy"
      },
      "source": [
        "import pandas as pd "
      ],
      "execution_count": 14,
      "outputs": []
    },
    {
      "cell_type": "code",
      "metadata": {
        "colab": {
          "base_uri": "https://localhost:8080/"
        },
        "id": "PQgl17DPbYiI",
        "outputId": "0e97f137-e512-4a59-8556-41244ed36331"
      },
      "source": [
        "!pip install pyLDAvis"
      ],
      "execution_count": 1,
      "outputs": [
        {
          "output_type": "stream",
          "text": [
            "Requirement already satisfied: pyLDAvis in /usr/local/lib/python3.7/dist-packages (3.3.1)\n",
            "Requirement already satisfied: jinja2 in /usr/local/lib/python3.7/dist-packages (from pyLDAvis) (2.11.3)\n",
            "Requirement already satisfied: funcy in /usr/local/lib/python3.7/dist-packages (from pyLDAvis) (1.15)\n",
            "Requirement already satisfied: numpy>=1.20.0 in /usr/local/lib/python3.7/dist-packages (from pyLDAvis) (1.20.2)\n",
            "Requirement already satisfied: future in /usr/local/lib/python3.7/dist-packages (from pyLDAvis) (0.16.0)\n",
            "Requirement already satisfied: pandas>=1.2.0 in /usr/local/lib/python3.7/dist-packages (from pyLDAvis) (1.2.4)\n",
            "Requirement already satisfied: joblib in /usr/local/lib/python3.7/dist-packages (from pyLDAvis) (1.0.1)\n",
            "Requirement already satisfied: setuptools in /usr/local/lib/python3.7/dist-packages (from pyLDAvis) (56.0.0)\n",
            "Requirement already satisfied: sklearn in /usr/local/lib/python3.7/dist-packages (from pyLDAvis) (0.0)\n",
            "Requirement already satisfied: scipy in /usr/local/lib/python3.7/dist-packages (from pyLDAvis) (1.4.1)\n",
            "Requirement already satisfied: numexpr in /usr/local/lib/python3.7/dist-packages (from pyLDAvis) (2.7.3)\n",
            "Requirement already satisfied: scikit-learn in /usr/local/lib/python3.7/dist-packages (from pyLDAvis) (0.22.2.post1)\n",
            "Requirement already satisfied: gensim in /usr/local/lib/python3.7/dist-packages (from pyLDAvis) (3.6.0)\n",
            "Requirement already satisfied: MarkupSafe>=0.23 in /usr/local/lib/python3.7/dist-packages (from jinja2->pyLDAvis) (1.1.1)\n",
            "Requirement already satisfied: python-dateutil>=2.7.3 in /usr/local/lib/python3.7/dist-packages (from pandas>=1.2.0->pyLDAvis) (2.8.1)\n",
            "Requirement already satisfied: pytz>=2017.3 in /usr/local/lib/python3.7/dist-packages (from pandas>=1.2.0->pyLDAvis) (2018.9)\n",
            "Requirement already satisfied: smart-open>=1.2.1 in /usr/local/lib/python3.7/dist-packages (from gensim->pyLDAvis) (5.0.0)\n",
            "Requirement already satisfied: six>=1.5.0 in /usr/local/lib/python3.7/dist-packages (from gensim->pyLDAvis) (1.15.0)\n"
          ],
          "name": "stdout"
        }
      ]
    },
    {
      "cell_type": "code",
      "metadata": {
        "id": "AhsBkjMmbMlA"
      },
      "source": [
        "import pyLDAvis.gensim_models\n",
        "from gensim.models import LdaModel\n",
        "from gensim.corpora import Dictionary\n",
        "\n",
        "import warnings\n",
        "warnings.filterwarnings(\"ignore\", category=DeprecationWarning)"
      ],
      "execution_count": 28,
      "outputs": []
    },
    {
      "cell_type": "code",
      "metadata": {
        "colab": {
          "base_uri": "https://localhost:8080/",
          "height": 204
        },
        "id": "7j1O1SsfY6R3",
        "outputId": "8a6dc8cb-b36f-4cde-8ebe-7f0623e8a8d6"
      },
      "source": [
        "# Cargar datos\n",
        "path = 'reviews_vidjew_es.csv'\n",
        "data = pd.read_csv(path)\n",
        "data.head()"
      ],
      "execution_count": 15,
      "outputs": [
        {
          "output_type": "execute_result",
          "data": {
            "text/html": [
              "<div>\n",
              "<style scoped>\n",
              "    .dataframe tbody tr th:only-of-type {\n",
              "        vertical-align: middle;\n",
              "    }\n",
              "\n",
              "    .dataframe tbody tr th {\n",
              "        vertical-align: top;\n",
              "    }\n",
              "\n",
              "    .dataframe thead th {\n",
              "        text-align: right;\n",
              "    }\n",
              "</style>\n",
              "<table border=\"1\" class=\"dataframe\">\n",
              "  <thead>\n",
              "    <tr style=\"text-align: right;\">\n",
              "      <th></th>\n",
              "      <th>review_id</th>\n",
              "      <th>product_id</th>\n",
              "      <th>reviewer_id</th>\n",
              "      <th>stars</th>\n",
              "      <th>review_body</th>\n",
              "      <th>review_title</th>\n",
              "      <th>language</th>\n",
              "      <th>product_category</th>\n",
              "    </tr>\n",
              "  </thead>\n",
              "  <tbody>\n",
              "    <tr>\n",
              "      <th>0</th>\n",
              "      <td>es_0825565</td>\n",
              "      <td>product_es_0370490</td>\n",
              "      <td>reviewer_es_0174781</td>\n",
              "      <td>3</td>\n",
              "      <td>Buen. Buena calidad, y buena presentación.</td>\n",
              "      <td>Contenta</td>\n",
              "      <td>es</td>\n",
              "      <td>jewelry</td>\n",
              "    </tr>\n",
              "    <tr>\n",
              "      <th>1</th>\n",
              "      <td>es_0227934</td>\n",
              "      <td>product_es_0354224</td>\n",
              "      <td>reviewer_es_0411613</td>\n",
              "      <td>3</td>\n",
              "      <td>Un producto a perfecto, para salir de casa con...</td>\n",
              "      <td>Versatilidad</td>\n",
              "      <td>es</td>\n",
              "      <td>video_games</td>\n",
              "    </tr>\n",
              "    <tr>\n",
              "      <th>2</th>\n",
              "      <td>es_0468601</td>\n",
              "      <td>product_es_0665460</td>\n",
              "      <td>reviewer_es_0348315</td>\n",
              "      <td>1</td>\n",
              "      <td>No funciona con Nintendo Switch. No hay forma ...</td>\n",
              "      <td>Decepción absoluta</td>\n",
              "      <td>es</td>\n",
              "      <td>video_games</td>\n",
              "    </tr>\n",
              "    <tr>\n",
              "      <th>3</th>\n",
              "      <td>es_0814494</td>\n",
              "      <td>product_es_0692692</td>\n",
              "      <td>reviewer_es_0951508</td>\n",
              "      <td>5</td>\n",
              "      <td>Recomendado, los utilizo para pc y no me dan n...</td>\n",
              "      <td>Auriculares Pecham ps4</td>\n",
              "      <td>es</td>\n",
              "      <td>video_games</td>\n",
              "    </tr>\n",
              "    <tr>\n",
              "      <th>4</th>\n",
              "      <td>es_0206329</td>\n",
              "      <td>product_es_0728826</td>\n",
              "      <td>reviewer_es_0493255</td>\n",
              "      <td>4</td>\n",
              "      <td>El cable funciona bien podria ser un poco mas ...</td>\n",
              "      <td>Perfecto</td>\n",
              "      <td>es</td>\n",
              "      <td>video_games</td>\n",
              "    </tr>\n",
              "  </tbody>\n",
              "</table>\n",
              "</div>"
            ],
            "text/plain": [
              "    review_id          product_id  ... language  product_category\n",
              "0  es_0825565  product_es_0370490  ...       es           jewelry\n",
              "1  es_0227934  product_es_0354224  ...       es       video_games\n",
              "2  es_0468601  product_es_0665460  ...       es       video_games\n",
              "3  es_0814494  product_es_0692692  ...       es       video_games\n",
              "4  es_0206329  product_es_0728826  ...       es       video_games\n",
              "\n",
              "[5 rows x 8 columns]"
            ]
          },
          "metadata": {
            "tags": []
          },
          "execution_count": 15
        }
      ]
    },
    {
      "cell_type": "markdown",
      "metadata": {
        "id": "wN7I9uxUY6R4"
      },
      "source": [
        "###  `[12 pts]` Punto 1: Hacer pre-procesamiento del texto"
      ]
    },
    {
      "cell_type": "code",
      "metadata": {
        "colab": {
          "base_uri": "https://localhost:8080/",
          "height": 289
        },
        "id": "h56q8HxidT5o",
        "outputId": "09090f60-946a-4e07-fc82-16e383ec5c45"
      },
      "source": [
        "\n",
        "def pre_procesado(texto):\n",
        "    texto = texto.lower()\n",
        "    texto = re.sub(r\"[\\W\\d_]+\", \" \", texto)\n",
        "    texto = [palabra for palabra in texto.split() if palabra not in stopwords_sp]\n",
        "    return texto\n",
        "\n",
        "\n",
        "data['pp'] = data['review_body'].apply(lambda texto: pre_procesado(texto))\n",
        "\n",
        "data.head()"
      ],
      "execution_count": 17,
      "outputs": [
        {
          "output_type": "execute_result",
          "data": {
            "text/html": [
              "<div>\n",
              "<style scoped>\n",
              "    .dataframe tbody tr th:only-of-type {\n",
              "        vertical-align: middle;\n",
              "    }\n",
              "\n",
              "    .dataframe tbody tr th {\n",
              "        vertical-align: top;\n",
              "    }\n",
              "\n",
              "    .dataframe thead th {\n",
              "        text-align: right;\n",
              "    }\n",
              "</style>\n",
              "<table border=\"1\" class=\"dataframe\">\n",
              "  <thead>\n",
              "    <tr style=\"text-align: right;\">\n",
              "      <th></th>\n",
              "      <th>review_id</th>\n",
              "      <th>product_id</th>\n",
              "      <th>reviewer_id</th>\n",
              "      <th>stars</th>\n",
              "      <th>review_body</th>\n",
              "      <th>review_title</th>\n",
              "      <th>language</th>\n",
              "      <th>product_category</th>\n",
              "      <th>pp</th>\n",
              "    </tr>\n",
              "  </thead>\n",
              "  <tbody>\n",
              "    <tr>\n",
              "      <th>0</th>\n",
              "      <td>es_0825565</td>\n",
              "      <td>product_es_0370490</td>\n",
              "      <td>reviewer_es_0174781</td>\n",
              "      <td>3</td>\n",
              "      <td>Buen. Buena calidad, y buena presentación.</td>\n",
              "      <td>Contenta</td>\n",
              "      <td>es</td>\n",
              "      <td>jewelry</td>\n",
              "      <td>[buen, buena, calidad, buena, presentación]</td>\n",
              "    </tr>\n",
              "    <tr>\n",
              "      <th>1</th>\n",
              "      <td>es_0227934</td>\n",
              "      <td>product_es_0354224</td>\n",
              "      <td>reviewer_es_0411613</td>\n",
              "      <td>3</td>\n",
              "      <td>Un producto a perfecto, para salir de casa con...</td>\n",
              "      <td>Versatilidad</td>\n",
              "      <td>es</td>\n",
              "      <td>video_games</td>\n",
              "      <td>[producto, perfecto, salir, casa, nintendo, sw...</td>\n",
              "    </tr>\n",
              "    <tr>\n",
              "      <th>2</th>\n",
              "      <td>es_0468601</td>\n",
              "      <td>product_es_0665460</td>\n",
              "      <td>reviewer_es_0348315</td>\n",
              "      <td>1</td>\n",
              "      <td>No funciona con Nintendo Switch. No hay forma ...</td>\n",
              "      <td>Decepción absoluta</td>\n",
              "      <td>es</td>\n",
              "      <td>video_games</td>\n",
              "      <td>[funciona, nintendo, switch, forma, emparejarl...</td>\n",
              "    </tr>\n",
              "    <tr>\n",
              "      <th>3</th>\n",
              "      <td>es_0814494</td>\n",
              "      <td>product_es_0692692</td>\n",
              "      <td>reviewer_es_0951508</td>\n",
              "      <td>5</td>\n",
              "      <td>Recomendado, los utilizo para pc y no me dan n...</td>\n",
              "      <td>Auriculares Pecham ps4</td>\n",
              "      <td>es</td>\n",
              "      <td>video_games</td>\n",
              "      <td>[recomendado, utilizo, pc, dan, ningún, proble...</td>\n",
              "    </tr>\n",
              "    <tr>\n",
              "      <th>4</th>\n",
              "      <td>es_0206329</td>\n",
              "      <td>product_es_0728826</td>\n",
              "      <td>reviewer_es_0493255</td>\n",
              "      <td>4</td>\n",
              "      <td>El cable funciona bien podria ser un poco mas ...</td>\n",
              "      <td>Perfecto</td>\n",
              "      <td>es</td>\n",
              "      <td>video_games</td>\n",
              "      <td>[cable, funciona, bien, podria, ser, mas, larg...</td>\n",
              "    </tr>\n",
              "  </tbody>\n",
              "</table>\n",
              "</div>"
            ],
            "text/plain": [
              "    review_id  ...                                                 pp\n",
              "0  es_0825565  ...        [buen, buena, calidad, buena, presentación]\n",
              "1  es_0227934  ...  [producto, perfecto, salir, casa, nintendo, sw...\n",
              "2  es_0468601  ...  [funciona, nintendo, switch, forma, emparejarl...\n",
              "3  es_0814494  ...  [recomendado, utilizo, pc, dan, ningún, proble...\n",
              "4  es_0206329  ...  [cable, funciona, bien, podria, ser, mas, larg...\n",
              "\n",
              "[5 rows x 9 columns]"
            ]
          },
          "metadata": {
            "tags": []
          },
          "execution_count": 17
        }
      ]
    },
    {
      "cell_type": "markdown",
      "metadata": {
        "id": "EYdj4BU_Y6R4"
      },
      "source": [
        "###  `[10 pts]` Punto 2: Modelo de LDA"
      ]
    },
    {
      "cell_type": "code",
      "metadata": {
        "id": "BSn9XIueY6R5"
      },
      "source": [
        "# Crear una representación de los documentos en forma de diccionario\n",
        "dictionary = Dictionary(data['pp'].values)\n",
        "\n",
        "\n",
        "# Filtrar palabras muy frecuentes o infrecuentes\n",
        "dictionary.filter_extremes(no_below=5, no_above=0.5)\n",
        "\n",
        "#Corpus\n",
        "corpus = [dictionary.doc2bow(text) for text in data['pp'].values]\n",
        "\n",
        "#Entrenar el modelo\n",
        "model = LdaModel(corpus=corpus, id2word=dictionary, num_topics=7, passes=40)\n",
        "#model"
      ],
      "execution_count": 23,
      "outputs": []
    },
    {
      "cell_type": "markdown",
      "metadata": {
        "id": "vGrVCNgKY6R5"
      },
      "source": [
        "###  `[25 pts]` Punto 3: Visualización de LDA"
      ]
    },
    {
      "cell_type": "code",
      "metadata": {
        "colab": {
          "base_uri": "https://localhost:8080/",
          "height": 861
        },
        "id": "4MhfoWDeY6R5",
        "outputId": "651e7a33-b556-4081-b206-4673f9e9eb33"
      },
      "source": [
        "lda_display = pyLDAvis.gensim_models.prepare(model, corpus, dictionary, sort_topics=True)\n",
        "pyLDAvis.display(lda_display)\n"
      ],
      "execution_count": 29,
      "outputs": [
        {
          "output_type": "execute_result",
          "data": {
            "text/html": [
              "\n",
              "<link rel=\"stylesheet\" type=\"text/css\" href=\"https://cdn.jsdelivr.net/gh/bmabey/pyLDAvis@3.3.1/pyLDAvis/js/ldavis.v1.0.0.css\">\n",
              "\n",
              "\n",
              "<div id=\"ldavis_el2741397164666889767527496985\"></div>\n",
              "<script type=\"text/javascript\">\n",
              "\n",
              "var ldavis_el2741397164666889767527496985_data = {\"mdsDat\": {\"x\": [-0.1402660115532426, 0.09976571795063101, 0.17188423160630162, -0.07293569935249998, 0.020077852257041708, -0.16157822482220113, 0.08305213391396883], \"y\": [0.04235075453232658, 0.07686339127904433, -0.008618769618175263, 0.13148137598289852, -0.21252378209340447, -0.06566893463932998, 0.0361159645566402], \"topics\": [1, 2, 3, 4, 5, 6, 7], \"cluster\": [1, 1, 1, 1, 1, 1, 1], \"Freq\": [18.249234676743146, 15.70872911558647, 14.964187882717692, 14.160373205237908, 13.08345067483749, 12.616834017472517, 11.217190427404773]}, \"tinfo\": {\"Term\": [\"juego\", \"calidad\", \"si\", \"buena\", \"d\\u00eda\", \"caja\", \"buen\", \"bonito\", \"llegado\", \"foto\", \"cadena\", \"mando\", \"bien\", \"pulsera\", \"plata\", \"bonita\", \"bastante\", \"perfecto\", \"cumple\", \"bonitos\", \"quedan\", \"pena\", \"espa\\u00f1ol\", \"entrega\", \"pedir\", \"viene\", \"parece\", \"tama\\u00f1o\", \"nintendo\", \"grandes\", \"cadena\", \"rat\\u00f3n\", \"fino\", \"realidad\", \"baja\", \"ven\", \"piedras\", \"cabe\", \"quiz\\u00e1s\", \"foto\", \"preciosa\", \"colgante\", \"peso\", \"ve\", \"grande\", \"perdido\", \"much\\u00edsimo\", \"gustan\", \"fina\", \"rompio\", \"largo\", \"juegazo\", \"ver\", \"bolsita\", \"alta\", \"bastante\", \"\\u00fanica\", \"parece\", \"peque\\u00f1o\", \"usado\", \"hace\", \"material\", \"bonito\", \"peque\\u00f1os\", \"calidad\", \"aunque\", \"bien\", \"demasiado\", \"ser\", \"fotos\", \"esperaba\", \"tama\\u00f1o\", \"llego\", \"queda\", \"tal\", \"bonitos\", \"producto\", \"buena\", \"precio\", \"tan\", \"gustado\", \"viene\", \"creo\", \"caja\", \"cargar\", \"familia\", \"bajo\", \"rato\", \"c\\u00f3digo\", \"interesante\", \"disco\", \"toda\", \"embalaje\", \"relaci\\u00f3n\", \"transporte\", \"vienen\", \"buena\", \"lamentable\", \"mont\\u00f3n\", \"debido\", \"certificado\", \"llevas\", \"euros\", \"super\", \"auriculares\", \"jugando\", \"italiano\", \"general\", \"amazon\", \"casi\", \"devolver\", \"voy\", \"comprar\", \"calidad\", \"sonido\", \"precio\", \"juego\", \"ps\", \"mala\", \"dos\", \"trae\", \"demasiado\", \"bien\", \"envio\", \"producto\", \"mas\", \"si\", \"juegos\", \"excelente\", \"tiempo\", \"jugar\", \"cumple\", \"perfectamente\", \"solo\", \"problema\", \"mejor\", \"buen\", \"espa\\u00f1ol\", \"saga\", \"versi\\u00f3n\", \"modo\", \"gr\\u00e1ficos\", \"funcionar\", \"fan\", \"one\", \"ingles\", \"rapidez\", \"xbox\", \"espa\\u00f1ola\", \"consolas\", \"videojuegos\", \"vale\", \"veo\", \"cambiar\", \"aceptable\", \"historia\", \"usar\", \"hacer\", \"edici\\u00f3n\", \"merece\", \"jugabilidad\", \"pena\", \"mejores\", \"entender\", \"tener\", \"opci\\u00f3n\", \"alg\\u00fan\", \"juego\", \"si\", \"viene\", \"original\", \"mejor\", \"gran\", \"juegos\", \"caso\", \"ps\", \"perfecto\", \"solo\", \"verdad\", \"decir\", \"mal\", \"funciona\", \"entrega\", \"puede\", \"precio\", \"aunque\", \"menos\", \"mas\", \"jugar\", \"puestos\", \"condiciones\", \"cierra\", \"azul\", \"quedan\", \"materiales\", \"puedes\", \"pantalla\", \"puse\", \"elegantes\", \"cerrar\", \"perlas\", \"imagen\", \"roto\", \"repartidor\", \"venido\", \"igualmente\", \"llegaron\", \"grandes\", \"brillo\", \"preciosos\", \"c\\u00f3modos\", \"ni\\u00f1as\", \"poner\", \"q\", \"pendientes\", \"volver\\u00eda\", \"s\\u00e9\", \"respecto\", \"tacto\", \"recomiendo\", \"bonitos\", \"compra\", \"plata\", \"parte\", \"tama\\u00f1o\", \"si\", \"bien\", \"problema\", \"descripci\\u00f3n\", \"peque\\u00f1os\", \"gustado\", \"producto\", \"lleg\\u00f3\", \"buen\", \"vez\", \"pl\\u00e1stico\", \"d\\u00edas\", \"mas\", \"dos\", \"mejor\", \"bastante\", \"menos\", \"regalo\", \"entregado\", \"todav\\u00eda\", \"previsto\", \"recibido\", \"adapta\", \"nadie\", \"d\\u00eda\", \"acero\", \"falta\", \"esperando\", \"pedir\", \"hoy\", \"tampoco\", \"tiendas\", \"pedido\", \"opini\\u00f3n\", \"media\", \"ah\\u00ed\", \"casa\", \"ir\", \"haber\", \"aun\", \"espero\", \"bot\\u00f3n\", \"llegado\", \"quer\\u00eda\", \"sigue\", \"fecha\", \"conectar\", \"acabados\", \"a\\u00fan\", \"llegar\", \"puede\", \"meses\", \"ped\\u00ed\", \"cable\", \"perfectamente\", \"regalo\", \"mando\", \"despu\\u00e9s\", \"precio\", \"ahora\", \"mas\", \"mismo\", \"lleg\\u00f3\", \"original\", \"vez\", \"color\", \"gracias\", \"producto\", \"esperaba\", \"pandora\", \"anillo\", \"dedo\", \"instrucciones\", \"fea\", \"puesta\", \"servicio\", \"sirve\", \"bonita\", \"semana\", \"paquete\", \"articulo\", \"negra\", \"pulsera\", \"juguete\", \"env\\u00edo\", \"correctamente\", \"negro\", \"pone\", \"gust\\u00f3\", \"entrega\", \"aspecto\", \"prime\", \"pens\\u00e9\", \"siempre\", \"cuello\", \"claro\", \"mujer\", \"acierto\", \"opinar\", \"plata\", \"r\\u00e1pido\", \"bonito\", \"queda\", \"perfecto\", \"correcto\", \"tal\", \"nuevo\", \"regalo\", \"momento\", \"vendedor\", \"bien\", \"tiempo\", \"dise\\u00f1o\", \"llegado\", \"lleg\\u00f3\", \"precio\", \"producto\", \"amazon\", \"perdi\\u00f3\", \"detalle\", \"nintendo\", \"funci\\u00f3n\", \"expectativas\", \"desear\", \"hijo\", \"compro\", \"sony\", \"todas\", \"lado\", \"switch\", \"cumple\", \"genial\", \"pc\", \"pro\", \"buen\", \"rapido\", \"tienda\", \"deja\", \"bueno\", \"c\\u00f3modo\", \"cargador\", \"luces\", \"primer\", \"entretenido\", \"pulseras\", \"simplemente\", \"normal\", \"gracias\", \"cierre\", \"mando\", \"jugar\", \"consola\", \"menos\", \"producto\", \"regalar\", \"material\", \"perfecto\", \"solo\", \"juego\", \"precio\", \"regalo\", \"calidad\", \"funciona\", \"va\", \"pulsera\", \"gusta\", \"bien\"], \"Freq\": [118.0, 144.0, 113.0, 65.0, 48.0, 47.0, 61.0, 63.0, 50.0, 51.0, 32.0, 52.0, 184.0, 37.0, 34.0, 26.0, 52.0, 59.0, 24.0, 38.0, 22.0, 31.0, 18.0, 23.0, 20.0, 38.0, 48.0, 34.0, 17.0, 24.0, 31.51241525955947, 8.438983590079648, 7.499726085449225, 6.59019006321785, 8.220673358591302, 5.669973526460068, 5.666903481543806, 7.041269260674463, 7.514943808615756, 42.03525052953329, 7.473488875690319, 19.185206597213085, 5.652609409016234, 16.685955906661988, 21.75284474127075, 4.746099371764653, 4.735968159219912, 7.266429043454089, 10.280611105960496, 3.824367430476657, 3.8230025372622616, 3.8232942333380056, 10.162962070639178, 4.424421956478287, 5.053780521101329, 35.72344143629522, 3.7577246861331646, 31.880095107783422, 19.365821462617717, 3.4798370587996885, 12.30528289425388, 12.322168462898698, 31.200244499178275, 12.1613220367265, 58.28776858001634, 20.409809114628302, 63.11343923222691, 14.689362840508666, 17.23838903826485, 9.882439208857363, 15.042226972285688, 14.96315321535595, 14.463114745137732, 13.978126120079938, 12.710970065775953, 14.352577691094252, 19.281499105956847, 15.396952555977158, 18.156080972823528, 10.398415798283642, 10.782945195350333, 10.30547570397599, 14.212724959305513, 44.32926955545916, 7.679625695174355, 4.851051527253097, 4.850644027355354, 4.8497083278618955, 4.847499191187991, 4.844469518035207, 8.556052224566477, 8.485210914218237, 6.735858700343544, 6.683742453231263, 5.793787037967746, 9.287640223727971, 49.591492908881534, 3.906668299560619, 3.90287207259204, 3.905236790069295, 3.8983843138676444, 3.8203729985251527, 4.850135206151515, 3.6399884072415496, 5.338883718016916, 4.613972128525168, 5.114579385716392, 5.055433211699706, 20.574342065381064, 8.298833970498125, 6.514048643911678, 4.851473976196002, 13.705939040281596, 64.81318207831502, 7.664178902175539, 39.651843990071534, 40.09189515681998, 12.93034160583221, 10.96361421892364, 14.315687338359666, 8.084857767399361, 11.384893814295628, 34.98750050020546, 7.3551887827019655, 21.141767955601164, 15.228394093022708, 19.852591091604353, 8.802462872651212, 6.810158223139204, 10.049982838133925, 9.003389112992096, 7.990896928205946, 8.67174454607838, 8.708929465415757, 7.829312145384108, 8.122742523517644, 8.053523461403627, 17.38842481183123, 10.677720358022729, 13.258973207081722, 7.791017526958207, 6.845439724468553, 6.845004070335329, 5.8870517917273855, 5.886327635401821, 4.929066285261823, 4.928372192236008, 10.679055801443218, 4.927856896729761, 4.924258267007014, 4.9169987712567735, 16.609870791359807, 6.84414383802142, 7.090042642632011, 4.928532002408365, 7.7081994652617505, 4.857386412409713, 14.484958790311179, 6.8452276990913665, 4.758881637359314, 3.970928352592263, 21.76101045246692, 5.8871029520795926, 3.8882682550760737, 12.593867531341864, 4.806332600317894, 4.5327396949478125, 66.61779967221105, 58.038160083922925, 21.477523029494794, 15.29687885409499, 15.554577240144434, 9.887308739218197, 10.556055766212026, 8.363672226850024, 10.881922948158529, 14.579658184524758, 12.955765314325996, 9.457830768100541, 8.641488762121874, 11.133621332489378, 9.820304500616732, 8.463348415738064, 10.073752885448839, 12.091845235647698, 9.473443641770887, 8.098491771146925, 9.093262098275433, 8.188567218888377, 6.640223234191807, 6.640021100661149, 6.630613656415772, 5.696985829442646, 18.909970107195278, 6.611033155984203, 10.888738649457379, 6.437303628692089, 5.708149589476632, 5.630335167505121, 4.781679285869359, 4.658401289639273, 9.284887441620587, 13.928938747868536, 3.8483738743550115, 3.7957355579483423, 3.7923848827432205, 4.3048028657695445, 15.810179047565514, 4.779957407645233, 4.781827018030037, 4.742117012515729, 6.480966966789961, 11.914611735205602, 9.429085010535958, 17.022398286584888, 4.406529933965496, 3.8515828065411037, 3.850640265374071, 5.336050207957591, 14.768954793580285, 19.943801764004924, 16.182468085236778, 16.35689684481643, 14.542682027505181, 15.61966544989684, 32.26936544079778, 43.80852287697054, 10.461141885036913, 6.64040690120238, 8.468728143477886, 10.542752923718837, 18.875640347262443, 10.8286026763487, 12.498440250495099, 8.451355639934299, 7.487432738119304, 7.721443475205089, 9.726091535867884, 8.628061271530896, 8.386778718292787, 8.840484147542377, 7.148016601674724, 7.384269274117835, 14.125096881037411, 11.255503164970165, 6.686471931033749, 12.915589007859069, 4.814426759202423, 4.804235147587876, 41.1726205246518, 4.66904792253379, 6.175689624598664, 7.552559706640953, 16.190838471246817, 7.443435541939002, 9.477337395686803, 4.688744972373333, 16.88011255291466, 3.8782870442269846, 3.8799798819373597, 3.8775575238625573, 8.365423853031032, 3.850246393430572, 5.732122336367491, 8.274748437519758, 8.840630282680497, 4.768418095612246, 32.08280785119791, 5.751419118396462, 5.750307775742688, 4.4732657768432516, 5.589977921845567, 4.363554122290301, 8.00299057331975, 8.212990065632074, 20.605604277526687, 8.915856651890222, 7.266959401038047, 9.948333635116784, 13.747812189912251, 18.870076252829733, 16.385468232998857, 10.699269249685882, 23.813112564217597, 10.048143272738413, 15.965637102617354, 7.9731577095673645, 11.163039456176179, 9.661544515670961, 8.730229226771781, 8.120293943270658, 8.105024740801047, 8.958757245154077, 8.170995147460339, 8.517927313043879, 8.517573338446487, 6.654268845440369, 4.790974580343474, 4.790945230690926, 4.790794924894546, 12.753319641036436, 7.426472878794595, 20.038911074760506, 7.414720121716093, 10.056042992122801, 3.859521555724375, 3.7763650962228548, 25.108414302472625, 3.7462550208592256, 14.299923595385494, 5.578481789351052, 4.7137236266879, 12.870197072548354, 4.635730482576235, 14.393444929153379, 7.96747991581368, 3.8598275036175984, 3.837634274682838, 9.771505225740883, 3.232811976845263, 3.73338831105903, 6.466907333951926, 2.927770142971042, 2.931330567109262, 17.165939401246106, 10.074937942679597, 24.992488511209977, 15.177603609620295, 21.709361669026425, 8.211564077767457, 11.493849563244643, 7.476729711865346, 17.285581036397964, 8.654268900495333, 8.03005159627839, 26.336361074661447, 11.683048985550956, 7.766144856870631, 10.85046159961364, 10.139189668406805, 10.325250456657344, 9.356015535375349, 7.512512274621361, 5.794930735883788, 5.565962338901236, 14.015262251384506, 5.259427472140615, 9.563022320812014, 4.851633396680919, 11.458899261376501, 3.9083083822778155, 5.188314859057301, 12.20132050863515, 5.691661912287662, 13.959831197474232, 15.86283331601917, 5.439914848711857, 6.61474568059904, 5.297096582540197, 37.61846003883239, 6.740586792866668, 3.9088812589226754, 6.2092442977987945, 13.946923484084724, 5.554319382162458, 5.983530899723858, 2.96564322372031, 3.8984081724338226, 3.908510015879526, 3.8705467576374484, 2.856283088552506, 4.7643327682602665, 10.90463379331415, 11.999855330285934, 23.11507367578667, 12.934038039971476, 8.09608726228664, 8.75123437024486, 19.535666071019225, 6.176493861200942, 7.201448460136586, 11.920237732810465, 9.0088201103502, 11.687825354838694, 11.52085849966216, 9.101295605854757, 9.770647998733494, 7.126323733739233, 6.563567514244848, 6.926187755721293, 6.374401194879974, 6.677759344013644], \"Total\": [118.0, 144.0, 113.0, 65.0, 48.0, 47.0, 61.0, 63.0, 50.0, 51.0, 32.0, 52.0, 184.0, 37.0, 34.0, 26.0, 52.0, 59.0, 24.0, 38.0, 22.0, 31.0, 18.0, 23.0, 20.0, 38.0, 48.0, 34.0, 17.0, 24.0, 32.32179310716512, 9.245462835523679, 8.322643808573371, 7.399412336196708, 9.250273752414936, 6.476306666900307, 6.4763539140601685, 8.325841957694966, 9.25209745289437, 51.83072002144101, 9.254614387611756, 24.983498053111088, 7.406123413490831, 22.21043224303708, 29.611954565622383, 6.48494789455318, 6.489859827115888, 10.229831617322045, 14.8183011058721, 5.566537271950633, 5.566573852094724, 5.573703715854678, 14.878091929559, 6.485234634223252, 7.458124655131566, 52.80668001211079, 5.575145087572997, 48.387729522154295, 29.71597537724761, 5.571473090150588, 20.421345162540916, 20.477095385714627, 63.0590117723062, 21.304425691418288, 144.04764232995302, 43.02305104491912, 184.39199415067773, 28.891329490470856, 36.44426816206557, 17.682174534541907, 34.54529818175023, 34.306209051297444, 33.55073244287878, 35.349101649480694, 29.728184701748617, 38.996315640999974, 104.89327358396572, 65.69313699330624, 116.4469040535238, 23.347702063735795, 32.569482456435324, 38.709445142978275, 15.087226370332967, 47.15074656796787, 8.484706557940786, 5.654690898682952, 5.654689159813055, 5.654688968714946, 5.654633921675967, 5.654571768607984, 10.371533406426497, 10.363111456199434, 8.47102769496087, 8.463252702620249, 7.541495098470368, 12.226757618930813, 65.69313699330624, 5.634553044831785, 5.641008631650979, 5.654829726877826, 5.647596876042891, 5.632553066528955, 7.5140288032741696, 5.639731805857876, 8.485041172015096, 7.515046538844345, 8.525775482058636, 8.50867948746353, 34.72600334945196, 14.093633266832338, 11.300156156876598, 8.471313509795488, 25.38180601468831, 144.04764232995302, 14.07641117136072, 116.4469040535238, 118.96013499433452, 29.370842710057023, 24.322927020718733, 39.32976393363898, 16.863284117854356, 28.891329490470856, 184.39199415067773, 15.032700533324133, 104.89327358396572, 64.71675014911419, 113.61171263328481, 23.74276632134329, 13.181686084805923, 42.051423379225085, 34.033915789375996, 24.523830224254908, 37.65181585753802, 46.20743097483759, 24.337045280930653, 35.96246747518679, 61.109969621592285, 18.189792780412347, 11.48072275527902, 14.351394825894385, 8.605049316914023, 7.647023338262322, 7.64700798658329, 6.688587064240763, 6.688578567720759, 5.7301649973033495, 5.730150685709491, 12.417098504562558, 5.7301419032273575, 5.730075942462079, 5.7299682918749415, 20.034483854185677, 8.590312951800383, 9.507712549341457, 6.661823319305137, 10.490621127520713, 6.650609374207377, 19.9955762796027, 9.533686005222748, 6.646939704000637, 5.708084221929372, 31.370043564203993, 8.551914576836486, 5.691767402442434, 18.975538796649985, 7.615046680425526, 7.570472715888948, 118.96013499433452, 113.61171263328481, 38.709445142978275, 32.223224521016405, 35.96246747518679, 18.913261162086766, 23.74276632134329, 16.13618011304256, 29.370842710057023, 59.202401187637626, 46.20743097483759, 23.48467696077077, 19.748256579104996, 36.58798630081189, 34.887413887845575, 23.53055352087646, 50.720633752026416, 116.4469040535238, 43.02305104491912, 24.544848016730896, 64.71675014911419, 34.033915789375996, 7.445642845153689, 7.445643850842737, 7.445716673648074, 6.516075623703781, 22.351276905245847, 8.404556934266546, 13.986802613067887, 8.367510996780634, 7.439091323696754, 7.439337972549663, 6.522663772820963, 6.5211480798858705, 13.003527607488463, 19.539421397389116, 5.57973301289217, 5.600420386854033, 5.600854985245905, 6.52608640000946, 24.12583549917078, 7.473263465173924, 7.476396928818201, 7.466277949722771, 10.223050603911261, 19.56559628677587, 15.82462234478533, 28.82100459769908, 7.480302015453624, 6.551430016626893, 6.551429136841929, 9.318040713967315, 27.9778616120087, 38.996315640999974, 33.52183623905015, 34.444302781129885, 30.86533967320626, 34.306209051297444, 113.61171263328481, 184.39199415067773, 24.337045280930653, 13.062706208126931, 21.304425691418288, 32.569482456435324, 104.89327358396572, 42.93076898883625, 61.109969621592285, 26.155292545684404, 18.69040394505977, 21.51773182881396, 64.71675014911419, 39.32976393363898, 35.96246747518679, 52.80668001211079, 24.544848016730896, 61.75165265297301, 14.984277936933925, 12.175048804863497, 7.492428391886016, 14.989728147835995, 5.619746817862683, 5.6196000736991625, 48.656101298289116, 5.618922497717276, 7.48877880231545, 9.37265102250139, 20.5501245090469, 10.291575466870464, 13.146697125108348, 6.578122134891855, 24.311338823197875, 5.6064335169232065, 5.6267153130612115, 5.62672417630299, 12.183235163221871, 5.627100121394706, 8.44391189761397, 12.246299222021952, 13.10086649189424, 7.479523176282977, 50.54154322100822, 9.345690273409929, 9.345060741507066, 7.506633463437406, 9.435177726250062, 7.459506442322937, 15.015272466720594, 15.930540118873338, 50.720633752026416, 17.824233890278048, 14.002686013921924, 22.380252835788927, 37.65181585753802, 61.75165265297301, 52.798384594351866, 27.2682915042723, 116.4469040535238, 25.432076489701856, 64.71675014911419, 17.93239115428691, 42.93076898883625, 32.223224521016405, 26.155292545684404, 21.411755353848154, 21.66475958324248, 104.89327358396572, 34.54529818175023, 9.32300920525446, 9.323010297363822, 7.459672807388083, 5.596342113159222, 5.5963408230796645, 5.596336679916407, 14.941634431996588, 9.336674176452833, 26.11939127912372, 10.272369877088627, 13.999562822142481, 5.5877318394849125, 5.609059024923767, 37.38411002077127, 5.586682293304872, 21.512987984653254, 8.448987196264467, 7.455013638871387, 20.649556199358585, 7.463137914985483, 23.53055352087646, 13.054332407346372, 6.510795769797947, 6.551308107415502, 16.764866179760723, 5.581968218615603, 6.53100590854389, 12.120948931679917, 5.592327739515604, 5.5995739158293585, 34.444302781129885, 20.600417191816675, 63.0590117723062, 35.349101649480694, 59.202401187637626, 17.7759041819501, 29.728184701748617, 15.85128678710143, 61.75165265297301, 21.497559519747483, 19.667571189381352, 184.39199415067773, 42.051423379225085, 19.59514079734121, 50.54154322100822, 42.93076898883625, 116.4469040535238, 104.89327358396572, 34.72600334945196, 6.598866370688906, 6.595514313588493, 17.01135116805259, 6.594818904019198, 12.259472241455564, 6.578465826492452, 16.093432476013692, 5.670343824148386, 7.5649134631915, 17.85490709971201, 8.442789623379838, 20.814800976005152, 24.523830224254908, 8.454461421545522, 10.322883849955375, 8.485471076340518, 61.109969621592285, 11.301730110460852, 6.558034315259566, 11.247590610324549, 25.36702366372125, 10.310359231509844, 11.251438517644173, 5.62784822008978, 7.487527856743235, 7.541929874969483, 7.497488417274492, 5.612262273068579, 9.400041365006668, 21.66475958324248, 24.31413369307254, 52.798384594351866, 34.033915789375996, 20.671459786547047, 24.544848016730896, 104.89327358396572, 14.984644526557034, 20.477095385714627, 59.202401187637626, 46.20743097483759, 118.96013499433452, 116.4469040535238, 61.75165265297301, 144.04764232995302, 34.887413887845575, 22.513801872333065, 37.38411002077127, 22.555392472725067, 184.39199415067773], \"Category\": [\"Default\", \"Default\", \"Default\", \"Default\", \"Default\", \"Default\", \"Default\", \"Default\", \"Default\", \"Default\", \"Default\", \"Default\", \"Default\", \"Default\", \"Default\", \"Default\", \"Default\", \"Default\", \"Default\", \"Default\", \"Default\", \"Default\", \"Default\", \"Default\", \"Default\", \"Default\", \"Default\", \"Default\", \"Default\", \"Default\", \"Topic1\", \"Topic1\", \"Topic1\", \"Topic1\", \"Topic1\", \"Topic1\", \"Topic1\", \"Topic1\", \"Topic1\", \"Topic1\", \"Topic1\", \"Topic1\", \"Topic1\", \"Topic1\", \"Topic1\", \"Topic1\", \"Topic1\", \"Topic1\", \"Topic1\", \"Topic1\", \"Topic1\", \"Topic1\", \"Topic1\", \"Topic1\", \"Topic1\", \"Topic1\", \"Topic1\", \"Topic1\", \"Topic1\", \"Topic1\", \"Topic1\", \"Topic1\", \"Topic1\", \"Topic1\", \"Topic1\", \"Topic1\", \"Topic1\", \"Topic1\", \"Topic1\", \"Topic1\", \"Topic1\", \"Topic1\", \"Topic1\", \"Topic1\", \"Topic1\", \"Topic1\", \"Topic1\", \"Topic1\", \"Topic1\", \"Topic1\", \"Topic1\", \"Topic1\", \"Topic2\", \"Topic2\", \"Topic2\", \"Topic2\", \"Topic2\", \"Topic2\", \"Topic2\", \"Topic2\", \"Topic2\", \"Topic2\", \"Topic2\", \"Topic2\", \"Topic2\", \"Topic2\", \"Topic2\", \"Topic2\", \"Topic2\", \"Topic2\", \"Topic2\", \"Topic2\", \"Topic2\", \"Topic2\", \"Topic2\", \"Topic2\", \"Topic2\", \"Topic2\", \"Topic2\", \"Topic2\", \"Topic2\", \"Topic2\", \"Topic2\", \"Topic2\", \"Topic2\", \"Topic2\", \"Topic2\", \"Topic2\", \"Topic2\", \"Topic2\", \"Topic2\", \"Topic2\", \"Topic2\", \"Topic2\", \"Topic2\", \"Topic2\", \"Topic2\", \"Topic2\", \"Topic2\", \"Topic2\", \"Topic2\", \"Topic2\", \"Topic2\", \"Topic2\", \"Topic2\", \"Topic2\", \"Topic2\", \"Topic3\", \"Topic3\", \"Topic3\", \"Topic3\", \"Topic3\", \"Topic3\", \"Topic3\", \"Topic3\", \"Topic3\", \"Topic3\", \"Topic3\", \"Topic3\", \"Topic3\", \"Topic3\", \"Topic3\", \"Topic3\", \"Topic3\", \"Topic3\", \"Topic3\", \"Topic3\", \"Topic3\", \"Topic3\", \"Topic3\", \"Topic3\", \"Topic3\", \"Topic3\", \"Topic3\", \"Topic3\", \"Topic3\", \"Topic3\", \"Topic3\", \"Topic3\", \"Topic3\", \"Topic3\", \"Topic3\", \"Topic3\", \"Topic3\", \"Topic3\", \"Topic3\", \"Topic3\", \"Topic3\", \"Topic3\", \"Topic3\", \"Topic3\", \"Topic3\", \"Topic3\", \"Topic3\", \"Topic3\", \"Topic3\", \"Topic3\", \"Topic3\", \"Topic3\", \"Topic4\", \"Topic4\", \"Topic4\", \"Topic4\", \"Topic4\", \"Topic4\", \"Topic4\", \"Topic4\", \"Topic4\", \"Topic4\", \"Topic4\", \"Topic4\", \"Topic4\", \"Topic4\", \"Topic4\", \"Topic4\", \"Topic4\", \"Topic4\", \"Topic4\", \"Topic4\", \"Topic4\", \"Topic4\", \"Topic4\", \"Topic4\", \"Topic4\", \"Topic4\", \"Topic4\", \"Topic4\", \"Topic4\", \"Topic4\", \"Topic4\", \"Topic4\", \"Topic4\", \"Topic4\", \"Topic4\", \"Topic4\", \"Topic4\", \"Topic4\", \"Topic4\", \"Topic4\", \"Topic4\", \"Topic4\", \"Topic4\", \"Topic4\", \"Topic4\", \"Topic4\", \"Topic4\", \"Topic4\", \"Topic4\", \"Topic4\", \"Topic4\", \"Topic4\", \"Topic4\", \"Topic4\", \"Topic5\", \"Topic5\", \"Topic5\", \"Topic5\", \"Topic5\", \"Topic5\", \"Topic5\", \"Topic5\", \"Topic5\", \"Topic5\", \"Topic5\", \"Topic5\", \"Topic5\", \"Topic5\", \"Topic5\", \"Topic5\", \"Topic5\", \"Topic5\", \"Topic5\", \"Topic5\", \"Topic5\", \"Topic5\", \"Topic5\", \"Topic5\", \"Topic5\", \"Topic5\", \"Topic5\", \"Topic5\", \"Topic5\", \"Topic5\", \"Topic5\", \"Topic5\", \"Topic5\", \"Topic5\", \"Topic5\", \"Topic5\", \"Topic5\", \"Topic5\", \"Topic5\", \"Topic5\", \"Topic5\", \"Topic5\", \"Topic5\", \"Topic5\", \"Topic5\", \"Topic5\", \"Topic5\", \"Topic5\", \"Topic5\", \"Topic5\", \"Topic5\", \"Topic6\", \"Topic6\", \"Topic6\", \"Topic6\", \"Topic6\", \"Topic6\", \"Topic6\", \"Topic6\", \"Topic6\", \"Topic6\", \"Topic6\", \"Topic6\", \"Topic6\", \"Topic6\", \"Topic6\", \"Topic6\", \"Topic6\", \"Topic6\", \"Topic6\", \"Topic6\", \"Topic6\", \"Topic6\", \"Topic6\", \"Topic6\", \"Topic6\", \"Topic6\", \"Topic6\", \"Topic6\", \"Topic6\", \"Topic6\", \"Topic6\", \"Topic6\", \"Topic6\", \"Topic6\", \"Topic6\", \"Topic6\", \"Topic6\", \"Topic6\", \"Topic6\", \"Topic6\", \"Topic6\", \"Topic6\", \"Topic6\", \"Topic6\", \"Topic6\", \"Topic6\", \"Topic6\", \"Topic6\", \"Topic6\", \"Topic7\", \"Topic7\", \"Topic7\", \"Topic7\", \"Topic7\", \"Topic7\", \"Topic7\", \"Topic7\", \"Topic7\", \"Topic7\", \"Topic7\", \"Topic7\", \"Topic7\", \"Topic7\", \"Topic7\", \"Topic7\", \"Topic7\", \"Topic7\", \"Topic7\", \"Topic7\", \"Topic7\", \"Topic7\", \"Topic7\", \"Topic7\", \"Topic7\", \"Topic7\", \"Topic7\", \"Topic7\", \"Topic7\", \"Topic7\", \"Topic7\", \"Topic7\", \"Topic7\", \"Topic7\", \"Topic7\", \"Topic7\", \"Topic7\", \"Topic7\", \"Topic7\", \"Topic7\", \"Topic7\", \"Topic7\", \"Topic7\", \"Topic7\", \"Topic7\", \"Topic7\", \"Topic7\", \"Topic7\", \"Topic7\"], \"logprob\": [30.0, 29.0, 28.0, 27.0, 26.0, 25.0, 24.0, 23.0, 22.0, 21.0, 20.0, 19.0, 18.0, 17.0, 16.0, 15.0, 14.0, 13.0, 12.0, 11.0, 10.0, 9.0, 8.0, 7.0, 6.0, 5.0, 4.0, 3.0, 2.0, 1.0, -3.7804, -5.0979, -5.2159, -5.3452, -5.1241, -5.4956, -5.4961, -5.279, -5.2139, -3.4923, -5.2194, -4.2766, -5.4987, -4.4162, -4.151, -5.6734, -5.6756, -5.2475, -4.9005, -5.8894, -5.8897, -5.8897, -4.912, -5.7436, -5.6106, -3.655, -5.907, -3.7688, -4.2673, -5.9838, -4.7207, -4.7194, -3.7903, -4.7325, -3.1654, -4.2148, -3.0858, -4.5436, -4.3836, -4.94, -4.5199, -4.5252, -4.5592, -4.5933, -4.6883, -4.5668, -4.2716, -4.4966, -4.3318, -4.8891, -4.8528, -4.8981, -4.4267, -3.2892, -5.0423, -5.5017, -5.5018, -5.5019, -5.5024, -5.503, -4.9342, -4.9425, -5.1734, -5.1812, -5.3241, -4.8522, -3.177, -5.7182, -5.7191, -5.7185, -5.7203, -5.7405, -5.5019, -5.7889, -5.4058, -5.5518, -5.4488, -5.4604, -4.0568, -4.9647, -5.2069, -5.5016, -4.463, -2.9094, -5.0443, -3.4007, -3.3897, -4.5213, -4.6863, -4.4195, -4.9909, -4.6486, -3.5259, -5.0855, -4.0296, -4.3577, -4.0925, -4.9058, -5.1624, -4.7733, -4.8833, -5.0026, -4.9208, -4.9165, -5.023, -4.9862, -4.9948, -4.1765, -4.6641, -4.4476, -4.9793, -5.1087, -5.1088, -5.2596, -5.2597, -5.4372, -5.4373, -4.664, -5.4374, -5.4381, -5.4396, -4.2223, -5.1089, -5.0736, -5.4373, -4.99, -5.4518, -4.3592, -5.1088, -5.4723, -5.6533, -3.9522, -5.2595, -5.6743, -4.4991, -5.4624, -5.521, -2.8333, -2.9712, -3.9653, -4.3047, -4.288, -4.7411, -4.6756, -4.9084, -4.6452, -4.3527, -4.4708, -4.7855, -4.8757, -4.6223, -4.7479, -4.8966, -4.7224, -4.5398, -4.7838, -4.9406, -4.8248, -4.9296, -5.0839, -5.084, -5.0854, -5.2372, -4.0374, -5.0884, -4.5894, -5.115, -5.2352, -5.2489, -5.4123, -5.4384, -4.7487, -4.3431, -5.6294, -5.6432, -5.6441, -5.5174, -4.2164, -5.4127, -5.4123, -5.4206, -5.1082, -4.4993, -4.7333, -4.1426, -5.494, -5.6286, -5.6289, -5.3026, -4.2846, -3.9842, -4.1932, -4.1824, -4.3, -4.2286, -3.503, -3.1973, -4.6294, -5.0839, -4.8407, -4.6217, -4.0392, -4.5949, -4.4515, -4.8428, -4.9639, -4.9331, -4.7023, -4.8221, -4.8504, -4.7978, -5.0103, -4.9777, -4.25, -4.4771, -4.9979, -4.3396, -5.3264, -5.3285, -3.1802, -5.357, -5.0774, -4.8761, -4.1135, -4.8907, -4.6491, -5.3528, -4.0719, -5.5426, -5.5422, -5.5428, -4.7739, -5.5499, -5.1519, -4.7848, -4.7186, -5.336, -3.4297, -5.1485, -5.1487, -5.3999, -5.177, -5.4247, -4.8182, -4.7923, -3.8724, -4.7102, -4.9147, -4.6006, -4.2771, -3.9604, -4.1016, -4.5278, -3.7278, -4.5906, -4.1276, -4.8219, -4.4854, -4.6298, -4.7312, -4.8036, -4.8055, -4.7054, -4.7974, -4.7195, -4.7195, -4.9664, -5.2949, -5.295, -5.295, -4.3159, -4.8566, -3.864, -4.8582, -4.5535, -5.5111, -5.5329, -3.6385, -5.5409, -4.2014, -5.1428, -5.3112, -4.3068, -5.3279, -4.1949, -4.7863, -5.5111, -5.5168, -4.5822, -5.6883, -5.5444, -4.995, -5.7874, -5.7862, -4.0188, -4.5516, -3.6431, -4.1419, -3.7839, -4.7561, -4.4199, -4.8499, -4.0118, -4.7036, -4.7785, -3.5907, -4.4035, -4.8119, -4.4775, -4.5453, -4.5271, -4.6257, -4.8451, -4.9871, -5.0274, -4.1039, -5.0841, -4.4862, -5.1648, -4.3053, -5.381, -5.0977, -4.2425, -5.0051, -4.1079, -3.9801, -5.0503, -4.8548, -5.0769, -3.1166, -4.8359, -5.3808, -4.9181, -4.1088, -5.0295, -4.9551, -5.657, -5.3835, -5.3809, -5.3907, -5.6946, -5.1829, -4.3549, -4.2592, -3.6036, -4.1842, -4.6527, -4.5749, -3.7719, -4.9233, -4.7698, -4.2659, -4.5459, -4.2855, -4.2999, -4.5357, -4.4647, -4.7803, -4.8626, -4.8088, -4.8918, -4.8453], \"loglift\": [30.0, 29.0, 28.0, 27.0, 26.0, 25.0, 24.0, 23.0, 22.0, 21.0, 20.0, 19.0, 18.0, 17.0, 16.0, 15.0, 14.0, 13.0, 12.0, 11.0, 10.0, 9.0, 8.0, 7.0, 6.0, 5.0, 4.0, 3.0, 2.0, 1.0, 1.6757, 1.6098, 1.5969, 1.5852, 1.583, 1.5681, 1.5675, 1.5335, 1.4931, 1.4916, 1.4873, 1.437, 1.4309, 1.4151, 1.3926, 1.3889, 1.386, 1.359, 1.3354, 1.3257, 1.3253, 1.3241, 1.3199, 1.3187, 1.3119, 1.3102, 1.3065, 1.2838, 1.2729, 1.2304, 1.1945, 1.1931, 0.9974, 1.1404, 0.7963, 0.9553, 0.6289, 1.0246, 0.9524, 1.1192, 0.8696, 0.8713, 0.8596, 0.7733, 0.8514, 0.7015, 0.0072, 0.2502, -0.1574, 0.8922, 0.5956, 0.3776, 1.7912, 1.7892, 1.7513, 1.6977, 1.6976, 1.6974, 1.6969, 1.6963, 1.6585, 1.651, 1.6217, 1.6149, 1.5873, 1.576, 1.5698, 1.4847, 1.4826, 1.4808, 1.4803, 1.4627, 1.4132, 1.4131, 1.3877, 1.3631, 1.34, 1.3303, 1.3275, 1.3213, 1.3001, 1.2936, 1.2348, 1.0523, 1.243, 0.7737, 0.7633, 1.0305, 1.0541, 0.8403, 1.1158, 0.9197, 0.1889, 1.1361, 0.2493, 0.4041, 0.1065, 0.8587, 1.1905, 0.4196, 0.5212, 0.7296, 0.3826, 0.1822, 0.7168, 0.3631, -0.1756, 1.8545, 1.827, 1.8203, 1.8001, 1.7888, 1.7887, 1.7719, 1.7717, 1.7489, 1.7488, 1.7487, 1.7487, 1.748, 1.7465, 1.7121, 1.6723, 1.6061, 1.5982, 1.5913, 1.5853, 1.5771, 1.5682, 1.5654, 1.5366, 1.5338, 1.5261, 1.5185, 1.4896, 1.4393, 1.3866, 1.3197, 1.2278, 1.3104, 1.1545, 1.0614, 1.2509, 1.0889, 1.2423, 0.9066, 0.4982, 0.6279, 0.99, 1.073, 0.7098, 0.6318, 0.877, 0.2831, -0.3654, 0.3863, 0.7907, -0.063, 0.4749, 1.8402, 1.8402, 1.8388, 1.8204, 1.7875, 1.7147, 1.7043, 1.6925, 1.6899, 1.6761, 1.6442, 1.6183, 1.6179, 1.6163, 1.5832, 1.5658, 1.5648, 1.5386, 1.5321, 1.5078, 1.5078, 1.5008, 1.4989, 1.4587, 1.437, 1.4281, 1.4255, 1.4235, 1.4233, 1.3973, 1.3158, 1.2842, 1.2265, 1.21, 1.2022, 1.1679, 0.6961, 0.5175, 1.1104, 1.2781, 1.0322, 0.8268, 0.2397, 0.5773, 0.3677, 0.825, 1.0399, 0.9298, 0.0595, 0.4378, 0.4989, 0.1674, 0.7211, -0.169, 1.9748, 1.9553, 1.92, 1.8849, 1.8792, 1.8771, 1.8668, 1.8486, 1.841, 1.8179, 1.7954, 1.7098, 1.7066, 1.6952, 1.669, 1.6653, 1.6621, 1.6615, 1.6579, 1.6544, 1.6465, 1.6418, 1.6405, 1.5837, 1.5793, 1.5484, 1.5482, 1.5162, 1.5104, 1.4976, 1.4046, 1.3713, 1.1331, 1.3411, 1.3779, 1.223, 1.0263, 0.8483, 0.8637, 1.0983, 0.4466, 1.1052, 0.6342, 1.2233, 0.6868, 0.8293, 0.9366, 1.0642, 1.0506, -0.4265, 0.5921, 1.9798, 1.9798, 1.9559, 1.9148, 1.9148, 1.9147, 1.9118, 1.8412, 1.8051, 1.7441, 1.7393, 1.7001, 1.6745, 1.6721, 1.6705, 1.6617, 1.655, 1.6117, 1.5974, 1.594, 1.5786, 1.5764, 1.5473, 1.5353, 1.5303, 1.5239, 1.5109, 1.4419, 1.423, 1.4229, 1.3737, 1.3549, 1.1446, 1.2247, 1.0669, 1.2978, 1.1199, 1.3187, 0.7969, 1.1603, 1.1744, 0.124, 0.7894, 1.1446, 0.5316, 0.627, -0.3527, -0.3468, 0.5392, 2.0578, 2.018, 1.994, 1.9615, 1.9393, 1.8832, 1.8481, 1.8156, 1.8106, 1.807, 1.7934, 1.7882, 1.7521, 1.7468, 1.7427, 1.7165, 1.7025, 1.6709, 1.6703, 1.5936, 1.5895, 1.5691, 1.5562, 1.5471, 1.5351, 1.5304, 1.5266, 1.5123, 1.5082, 1.5012, 1.4816, 1.3617, 1.2202, 1.2503, 1.1564, 0.507, 1.3014, 1.1427, 0.585, 0.5528, -0.1325, -0.1256, 0.273, -0.503, 0.5994, 0.9551, 0.5018, 0.924, -1.1306]}, \"token.table\": {\"Topic\": [1, 5, 3, 6, 5, 4, 6, 5, 2, 3, 4, 5, 6, 7, 2, 5, 1, 3, 4, 1, 3, 1, 2, 5, 6, 6, 1, 6, 1, 2, 6, 3, 5, 1, 2, 3, 4, 6, 2, 7, 4, 2, 5, 6, 7, 1, 2, 1, 4, 6, 7, 1, 2, 3, 4, 5, 6, 7, 1, 4, 5, 6, 1, 4, 5, 6, 1, 4, 6, 7, 4, 5, 4, 7, 2, 4, 5, 6, 7, 1, 2, 1, 2, 3, 4, 5, 6, 7, 1, 4, 1, 3, 4, 5, 1, 2, 3, 4, 1, 2, 3, 5, 7, 1, 3, 5, 4, 7, 2, 4, 5, 7, 2, 4, 5, 1, 2, 3, 7, 4, 5, 2, 5, 4, 1, 4, 7, 4, 5, 6, 1, 6, 1, 2, 5, 6, 1, 2, 4, 5, 6, 7, 2, 3, 4, 5, 7, 3, 7, 4, 3, 5, 2, 4, 7, 3, 3, 6, 2, 4, 6, 2, 1, 6, 2, 7, 2, 1, 5, 6, 7, 2, 4, 5, 2, 7, 1, 3, 4, 6, 6, 1, 2, 7, 1, 2, 6, 2, 4, 6, 1, 7, 2, 3, 4, 5, 6, 7, 2, 6, 7, 2, 7, 1, 2, 3, 4, 6, 1, 2, 3, 4, 5, 4, 5, 6, 2, 4, 5, 6, 7, 2, 3, 1, 4, 2, 4, 1, 3, 3, 6, 5, 2, 7, 1, 2, 5, 7, 2, 6, 3, 3, 1, 3, 5, 6, 2, 5, 2, 4, 5, 2, 4, 2, 3, 5, 6, 7, 2, 7, 4, 5, 2, 3, 6, 5, 7, 1, 6, 1, 1, 3, 5, 6, 1, 2, 4, 6, 7, 2, 3, 4, 5, 6, 7, 3, 5, 7, 2, 3, 5, 1, 5, 7, 3, 5, 7, 2, 3, 4, 6, 1, 4, 6, 1, 4, 3, 1, 3, 4, 5, 6, 7, 1, 2, 4, 5, 1, 3, 7, 4, 5, 6, 3, 4, 5, 1, 2, 4, 6, 3, 5, 3, 7, 2, 3, 5, 6, 2, 4, 1, 4, 3, 6, 2, 5, 7, 2, 3, 1, 7, 2, 3, 7, 2, 3, 7, 3, 5, 2, 6, 2, 3, 4, 7, 1, 6, 1, 7, 1, 2, 1, 5, 4, 5, 6, 7, 1, 2, 5, 4, 5, 1, 3, 4, 5, 6, 7, 1, 3, 4, 5, 6, 1, 2, 1, 5, 7, 1, 3, 4, 5, 6, 1, 2, 7, 2, 3, 4, 5, 7, 1, 2, 3, 4, 5, 6, 7, 1, 7, 3, 4, 2, 5, 2, 3, 4, 7, 3, 6, 3, 4, 7, 1, 3, 3, 4, 5, 6, 2, 3, 5, 3, 1, 2, 4, 6, 2, 4, 1, 5, 4, 5, 6, 5, 2, 6, 1, 5, 6, 3, 7, 1, 4, 6, 5, 7, 1, 5, 6, 7, 3, 2, 3, 7, 1, 6, 7, 1, 5, 3, 5, 6, 7, 6, 1, 4, 1, 3, 6, 1, 2, 3, 5, 6, 1, 2, 3, 4, 7, 1, 4, 7, 1, 5, 6, 7, 1, 5, 1, 2, 5, 1, 3, 5, 7, 1, 4, 5, 7, 6, 7, 1, 3, 4, 5, 6, 1, 4, 1, 6, 7, 2, 3, 5, 6, 7, 1, 3, 4, 6, 7, 4, 6, 1, 4, 1, 4, 6, 2, 4, 6, 3, 4, 6, 1, 4, 7, 1, 2, 3, 4, 5, 6, 7, 1, 6, 3, 4, 6, 5, 1, 6, 1, 4, 7, 2, 7, 1, 2, 4, 5, 7, 1, 2, 3, 4, 5, 6, 7, 2, 3, 5, 1, 2, 3, 4, 5, 7, 4, 7, 6, 4, 5, 6, 7, 1, 6, 7, 1, 4, 4, 6, 1, 2, 6, 7, 2, 4, 5, 1, 5, 7, 1, 4, 3, 2, 5, 7, 2, 1, 1, 2, 5, 1, 3, 4, 7, 4, 6, 7, 1, 2, 4, 5, 6, 7, 1, 2, 1, 4, 3, 4, 5, 1, 5, 1, 4, 7, 3, 4, 5, 6, 7, 3, 2, 5, 6, 1, 2, 3, 4, 5, 3, 6, 2, 3, 4, 6, 7, 1, 4, 6, 7, 4, 5, 1, 7, 2, 6, 1, 2, 3, 5, 6, 7, 2, 4, 7, 3, 7, 2, 6, 3, 6, 7, 3, 4, 5, 1, 3, 4, 1, 3, 4, 6, 1, 4, 6, 2, 3, 5, 1, 3, 5, 7, 3, 4, 1, 2, 3, 4, 5, 6, 7, 1, 7, 3, 5, 2, 5, 4, 6, 7, 5, 1, 2, 6, 7, 2, 7, 1, 5, 1, 3, 1, 2, 3, 5, 6, 7, 3, 5, 6, 1, 4, 6, 1, 2, 5, 6, 2, 4, 2, 3, 1, 3, 5, 6, 1, 3, 4, 6, 3, 1, 2, 3, 4, 5, 3, 1, 2, 3, 4, 2, 4, 2, 4, 7, 2, 4, 7, 3, 5, 1, 7], \"Freq\": [0.2681142533308393, 0.5362285066616786, 0.7505452727199505, 0.1501090545439901, 0.8898503230879733, 0.3576328307563097, 0.5364492461344645, 0.8897197973594144, 0.11796126836968197, 0.23592253673936395, 0.03932042278989399, 0.3932042278989399, 0.07864084557978798, 0.07864084557978798, 0.17772330199008346, 0.7108932079603338, 0.1320921476807115, 0.6604607384035576, 0.1320921476807115, 0.6704098189830802, 0.26816392759323204, 0.08639059236994935, 0.6047341465896455, 0.11518745649326581, 0.23037491298653162, 0.9653534333802938, 0.17896349157875513, 0.7158539663150205, 0.1532058429027357, 0.1532058429027357, 0.6128233716109428, 0.24497196627412463, 0.653258576730999, 0.46486707739808086, 0.18594683095923234, 0.20919018482913637, 0.046486707739808085, 0.06973006160971212, 0.5892723321709658, 0.2357089328683863, 0.9207996264152564, 0.26639543230837015, 0.5327908646167403, 0.06659885807709254, 0.13319771615418508, 0.8648392700714904, 0.8842219012734028, 0.6817319322431118, 0.17043298306077795, 0.07574799247145687, 0.07574799247145687, 0.3416634235677224, 0.1898130130931791, 0.010846457891038807, 0.23862207360285376, 0.04338583156415523, 0.14100395258350448, 0.03796260261863582, 0.6167857025390551, 0.15419642563476377, 0.19142865722128516, 0.7657146288851406, 0.49160301008101676, 0.09514896969310002, 0.01585816161551667, 0.39645404038791676, 0.35900827475303, 0.5128689639329, 0.025643448196645, 0.076930344589935, 0.2673967247460178, 0.6684918118650445, 0.6690517500554406, 0.26762070002217625, 0.13091153619512388, 0.19636730429268584, 0.016363942024390486, 0.03272788404878097, 0.6218297969268385, 0.22833435403653224, 0.7611145134551075, 0.07884251721893208, 0.07884251721893208, 0.03942125860946604, 0.11826377582839812, 0.07884251721893208, 0.07884251721893208, 0.5518976205325246, 0.840755810111242, 0.12010797287303457, 0.2680934859862361, 0.04468224766437269, 0.17872899065749076, 0.4468224766437269, 0.9900440824524124, 0.9331771647894044, 0.02120857192703192, 0.04241714385406384, 0.402644563019964, 0.4512395964878907, 0.041652885829651445, 0.034710738191376204, 0.06942147638275241, 0.10517776960655631, 0.7362443872458942, 0.10517776960655631, 0.44438762138362553, 0.5332651456603507, 0.9428729143865144, 0.08208000474444989, 0.6566400379555991, 0.16416000948889978, 0.5676321959382208, 0.1419080489845552, 0.21286207347683278, 0.06197253581668437, 0.06197253581668437, 0.49578028653347495, 0.3098626790834218, 0.7665579852259605, 0.1533115970451921, 0.7082658496692642, 0.17706646241731605, 0.94013784123353, 0.24677005052865567, 0.24677005052865567, 0.49354010105731133, 0.1531157702202957, 0.1531157702202957, 0.6124630808811828, 0.7605019905382709, 0.2001321027732292, 0.3736265368155455, 0.046703317101943184, 0.3736265368155455, 0.14010995130582954, 0.149156506950995, 0.059662602780398, 0.477300822243184, 0.059662602780398, 0.178987808341194, 0.059662602780398, 0.5515761956378628, 0.03939829968841877, 0.19699149844209385, 0.07879659937683754, 0.1181948990652563, 0.17635614894131882, 0.7054245957652753, 0.9401470363382615, 0.31795903448151863, 0.6359180689630373, 0.3386311403394737, 0.24187938595676692, 0.3870070175308271, 0.8725887841988386, 0.23671476279242745, 0.7101442883772824, 0.33753557279479957, 0.16876778639739978, 0.4500474303930661, 0.9279372932011642, 0.3582965580724902, 0.5374448371087353, 0.3262133168777088, 0.6524266337554177, 0.8842305389272767, 0.1939796621137827, 0.09698983105689135, 0.09698983105689135, 0.5819389863413481, 0.13393554415384853, 0.6696777207692427, 0.13393554415384853, 0.7073599371149414, 0.17683998427873535, 0.3038242882841825, 0.45573643242627376, 0.10127476276139416, 0.15191214414209125, 0.9383789585338352, 0.2667237903597058, 0.08890793011990192, 0.5334475807194116, 0.5191869070943034, 0.3807370652024892, 0.06922492094590713, 0.15310763084878268, 0.5358767079707394, 0.30621526169756536, 0.15201112635910527, 0.7600556317955264, 0.25670841896725594, 0.14669052512414626, 0.036672631281036566, 0.4033989440914022, 0.18336315640518283, 0.9097091924489381, 0.6194604661051714, 0.08849435230073878, 0.2654830569022163, 0.8677598236749972, 0.0964177581861108, 0.20413224081261744, 0.05103306020315436, 0.10206612040630872, 0.20413224081261744, 0.4082644816252349, 0.17798225313050656, 0.3559645062610131, 0.07627810848450281, 0.22883432545350843, 0.15255621696900562, 0.020552407063390482, 0.8426486895990097, 0.12331444238034289, 0.1858931987731012, 0.3717863975462024, 0.2788397981596518, 0.0464732996932753, 0.0929465993865506, 0.20978244919167247, 0.7342385721708536, 0.1344205631858493, 0.8065233791150958, 0.8263460175161585, 0.11804943107373694, 0.17569235165352737, 0.7027694066141095, 0.33998350242387404, 0.5949711292417796, 0.9343126214638724, 0.3977761726420373, 0.5303682301893831, 0.13304329422158365, 0.46565152977554275, 0.06652164711079182, 0.2660865884431673, 0.27890128532030173, 0.6507696657473707, 0.9345900860567486, 0.8725787396615564, 0.4342124916995007, 0.17368499667980028, 0.23157999557306705, 0.1447374972331669, 0.1066933995087676, 0.8535471960701408, 0.07633082900422802, 0.15266165800845605, 0.6869774610380522, 0.66542199010753, 0.266168796043012, 0.5310398043895659, 0.07586282919850941, 0.07586282919850941, 0.15172565839701882, 0.07586282919850941, 0.16313915971333368, 0.8156957985666684, 0.13353312020523436, 0.8011987212314062, 0.8842216293669672, 0.897050444641416, 0.8934409390113773, 0.5328620372211882, 0.2664310186105941, 0.6748411932348483, 0.2699364772939393, 0.8410788880318437, 0.8103302439677801, 0.019293577237328097, 0.038587154474656195, 0.11576146342396859, 0.5655413015217741, 0.16966239045653222, 0.05655413015217741, 0.05655413015217741, 0.16966239045653222, 0.08599089659222835, 0.2866363219740945, 0.08599089659222835, 0.1719817931844567, 0.20064542538186614, 0.20064542538186614, 0.9153907008180888, 0.15163418655674565, 0.7581709327837283, 0.5876352502602633, 0.2350541001041053, 0.11752705005205265, 0.1182807455305881, 0.1182807455305881, 0.5914037276529405, 0.09231581787535664, 0.36926327150142657, 0.5077369983144615, 0.052872954665511875, 0.5287295466551187, 0.26436477332755937, 0.10574590933102375, 0.7429431904350081, 0.10131043505931929, 0.1350805800790924, 0.33159473379792237, 0.6631894675958447, 0.9153888631377776, 0.0886705918515266, 0.22167647962881654, 0.26601177555457983, 0.0886705918515266, 0.0886705918515266, 0.26601177555457983, 0.33773947789049186, 0.09211076669740687, 0.33773947789049186, 0.21492512229394936, 0.6842732375132146, 0.09775331964474494, 0.09775331964474494, 0.13399189608865017, 0.13399189608865017, 0.6699594804432508, 0.11842852129740647, 0.11842852129740647, 0.7105711277844389, 0.5876204483342128, 0.1469051120835532, 0.04896837069451773, 0.19587348277807093, 0.7001548644677607, 0.25005530873848597, 0.24854859309608207, 0.6835086310142258, 0.19064648086024888, 0.7625859234409955, 0.6801679706410014, 0.19433370589742896, 0.17854416917314544, 0.7141766766925818, 0.2307066275056287, 0.692119882516886, 0.8725752229391354, 0.8934407330536521, 0.8842402580789732, 0.7108457133704916, 0.1777114283426229, 0.5864569165024152, 0.3518741499014491, 0.71765565661874, 0.179413914154685, 0.3362470965748736, 0.5632138867629133, 0.10087412897246208, 0.379062821837637, 0.46329900446822303, 0.168472365261172, 0.7007605081636256, 0.1751901270409064, 0.6653318744142992, 0.2661327497657197, 0.26444209522341927, 0.2350596401985949, 0.11752982009929745, 0.38197191532271674, 0.17899711268679241, 0.7159884507471697, 0.23688852727794907, 0.7106655818338472, 0.17747636627846392, 0.7099054651138557, 0.7185748552486705, 0.17964371381216762, 0.039571407450983316, 0.6331425192157331, 0.21764274098040826, 0.11871422235294996, 0.12554502139136803, 0.31386255347842007, 0.5021800855654721, 0.6129247691226095, 0.30646238456130476, 0.41727852063544235, 0.08941682585045194, 0.14902804308408657, 0.14902804308408657, 0.05961121723363463, 0.11922243446726925, 0.16305321718835936, 0.09317326696477678, 0.25622648415313615, 0.25622648415313615, 0.23293316741194195, 0.17753938368418198, 0.7101575347367279, 0.17768780551513294, 0.17768780551513294, 0.5330634165453988, 0.24598238137528464, 0.30064513279201455, 0.08199412712509488, 0.1913196299585547, 0.16398825425018976, 0.3700212557614315, 0.4522482014861941, 0.16445389144952513, 0.11363984042500143, 0.13257981382916834, 0.018939973404166904, 0.30303957446667046, 0.43561938829583885, 0.13906755174298854, 0.23177925290498091, 0.13906755174298854, 0.15451950193665395, 0.24723120309864632, 0.06180780077466158, 0.015451950193665395, 0.5860206134690139, 0.34184535785692477, 0.11898307166233368, 0.8328815016363358, 0.17772358194108642, 0.7108943277643457, 0.2224541462712424, 0.4449082925424848, 0.2224541462712424, 0.0834203048517159, 0.701597279309999, 0.23386575976999965, 0.3259339798945519, 0.2851922324077329, 0.3666757273813709, 0.15044517394946783, 0.7522258697473391, 0.16831017919015884, 0.2805169653169314, 0.5049305375704765, 0.05610339306338628, 0.2788250577951899, 0.2788250577951899, 0.44612009247230383, 0.9296867112981279, 0.13955072422263673, 0.37213526459369795, 0.09303381614842449, 0.4186521726679102, 0.7090930472179232, 0.1772732618044808, 0.7704326646792946, 0.15408653293585894, 0.24750537411794965, 0.16500358274529975, 0.4950107482358993, 0.8897430305407296, 0.1782830231517471, 0.7131320926069884, 0.1341379169027771, 0.1341379169027771, 0.6706895845138855, 0.11756855644459394, 0.8229798951121575, 0.19563632006622517, 0.5869089601986756, 0.09781816003311258, 0.4255300423347831, 0.5319125529184789, 0.25234544385727065, 0.12617272192863532, 0.44160452675022366, 0.12617272192863532, 0.8970515841670971, 0.13131895863100873, 0.6565947931550437, 0.13131895863100873, 0.17858501647297015, 0.5357550494189105, 0.17858501647297015, 0.17836651357435465, 0.7134660542974186, 0.4655027615320374, 0.3103351743546916, 0.03103351743546916, 0.18620110461281497, 0.9653535464630443, 0.11950985190037347, 0.7170591114022409, 0.14286160399499687, 0.07143080199749843, 0.7143080199749844, 0.6613246853285153, 0.10333198208258051, 0.10333198208258051, 0.10333198208258051, 0.020666396416516103, 0.16199400534510966, 0.06479760213804386, 0.12959520427608773, 0.485982016035329, 0.12959520427608773, 0.09687215457764964, 0.19374430915529928, 0.6781050820435475, 0.1233992098015351, 0.6992621888753655, 0.08226613986769006, 0.08226613986769006, 0.19464602261845454, 0.7785840904738182, 0.28565947961862964, 0.14282973980931482, 0.49990408933260183, 0.09563263735544399, 0.7013060072732559, 0.15938772892574, 0.031877545785147995, 0.24287841793546794, 0.5898475864147078, 0.13878766739169596, 0.03469691684792399, 0.6105650863027421, 0.30528254315137104, 0.6393867190557566, 0.1009557977456458, 0.03365193258188193, 0.06730386516376385, 0.1346077303275277, 0.563263247449743, 0.37550883163316195, 0.7710162180639241, 0.1542032436127848, 0.9092470832037192, 0.23903229618600638, 0.13279572010333687, 0.37182801628934325, 0.13279572010333687, 0.13279572010333687, 0.06756482709750734, 0.25336810161565254, 0.11823844742063787, 0.3716065490362904, 0.20269448129252204, 0.7667361542398079, 0.1533472308479616, 0.8101404290766384, 0.13502340484610642, 0.9264472077373653, 0.46451803950479464, 0.49355041697384433, 0.3210203491394264, 0.37452374066266414, 0.26751695761618866, 0.29056314538064365, 0.04842719089677394, 0.6295534816580612, 0.1533303639729938, 0.6133214558919752, 0.20444048529732503, 0.15457688760644472, 0.34350419468098825, 0.10305125840429648, 0.008587604867024706, 0.20610251680859296, 0.08587604867024706, 0.10305125840429648, 0.7563794348222885, 0.10805420497461264, 0.13375426820176475, 0.6687713410088237, 0.13375426820176475, 0.9342765301008021, 0.30718211271155677, 0.6143642254231135, 0.2671108593203842, 0.1335554296601921, 0.5342217186407684, 0.3535454865157343, 0.5892424775262238, 0.041089622361986246, 0.32871697889588997, 0.41089622361986244, 0.041089622361986246, 0.12326886708595874, 0.18113649570475787, 0.20020349525262712, 0.076267998191477, 0.18113649570475787, 0.08580149796541163, 0.08580149796541163, 0.1906699954786925, 0.44261583259061893, 0.3745210891151391, 0.1702368586886996, 0.17744257778798805, 0.07886336790577247, 0.1971584197644312, 0.03943168395288624, 0.4140326815053055, 0.0985792098822156, 0.7864556542552968, 0.1429919371373267, 0.8934416004568699, 0.9401471633246881, 0.10699733115961647, 0.668733319747603, 0.18724532952932882, 0.13337799865031638, 0.26675599730063276, 0.5335119946012655, 0.13442502000406464, 0.806550120024388, 0.5687339516804178, 0.3791559677869452, 0.39604966878148856, 0.08486778616746184, 0.42433893083730917, 0.08486778616746184, 0.08948034640162325, 0.8500632908154209, 0.044740173200811625, 0.2140023841460206, 0.6420071524380618, 0.1070011920730103, 0.8646687997754854, 0.10808359997193567, 0.8725774022783686, 0.17696405598544643, 0.17696405598544643, 0.6193741959490625, 0.8842219311553529, 0.8652892929558639, 0.9460210732894492, 0.06671235062687683, 0.8672605581493988, 0.21445527478857324, 0.03574254579809554, 0.5361381869714331, 0.21445527478857324, 0.1334699663015318, 0.40040989890459533, 0.40040989890459533, 0.032387797153210454, 0.09716339145963136, 0.1133572900362366, 0.3076840729554993, 0.2752962758022889, 0.14574508718944704, 0.1181578803254211, 0.8271051622779476, 0.17922004470275993, 0.7168801788110397, 0.15263845171987056, 0.6105538068794822, 0.15263845171987056, 0.7185795773174289, 0.17964489432935724, 0.15353576439069297, 0.7165002338232338, 0.10235717626046198, 0.04854270623204858, 0.04854270623204858, 0.19417082492819432, 0.4854270623204858, 0.19417082492819432, 0.9581278317118166, 0.09734851956902256, 0.09734851956902256, 0.6814396369831579, 0.4664656709362903, 0.13719578556949716, 0.1646349426833966, 0.02743915711389943, 0.1646349426833966, 0.06692708247891287, 0.8700520722258672, 0.17603818775759394, 0.5105107444970225, 0.2816611004121503, 0.017603818775759394, 0.008801909387879697, 0.1192971049428648, 0.17894565741429722, 0.596485524714324, 0.0596485524714324, 0.32102520068972756, 0.6420504013794551, 0.3563625330906842, 0.5345437996360263, 0.10710451935037082, 0.7497316354525957, 0.10820770370728393, 0.19477386667311108, 0.2813400296389382, 0.08656616296582714, 0.1298492444487407, 0.19477386667311108, 0.5683266780581451, 0.35520417378634067, 0.07104083475726813, 0.2643784373385596, 0.6609460933463991, 0.7092535846909033, 0.17731339617272582, 0.24021368283866326, 0.04804273656773265, 0.6725983119482571, 0.15263843122220602, 0.6105537248888241, 0.15263843122220602, 0.2146373965722313, 0.10731869828611565, 0.5365934914305782, 0.437295453133919, 0.03363811177953223, 0.13455244711812892, 0.37001922957485456, 0.437238634486567, 0.4663878767856715, 0.08744772689731341, 0.15212946498784705, 0.07606473249392352, 0.6845825924453117, 0.4283076755348972, 0.12849230266046915, 0.299815372874428, 0.12849230266046915, 0.6850925362021905, 0.31619655517024176, 0.19024326306044345, 0.23780407882555432, 0.02378040788255543, 0.09512163153022173, 0.07134122364766629, 0.28536489459066516, 0.11890203941277716, 0.3049694319754166, 0.6099388639508332, 0.1520190685873363, 0.7600953429366816, 0.7719689239870358, 0.09649611549837947, 0.11201402442649837, 0.16802103663974755, 0.6720841465589902, 0.9034871380232902, 0.2372017201420995, 0.474403440284199, 0.11860086007104975, 0.11860086007104975, 0.7955982098585428, 0.13259970164309046, 0.538457235897538, 0.17948574529917935, 0.15036216138001346, 0.7518108069000673, 0.31092038740032685, 0.08883439640009337, 0.17766879280018674, 0.08883439640009337, 0.044417198200046686, 0.31092038740032685, 0.8485369587621444, 0.04991393875071438, 0.09982787750142876, 0.7654060854817205, 0.09004777476255535, 0.13507166214383304, 0.9264539665277653, 0.30507071474282693, 0.25422559561902247, 0.4067609529904359, 0.17855802438461904, 0.7142320975384762, 0.11641019432131597, 0.8148713602492118, 0.6721291982429907, 0.13442583964859814, 0.06721291982429907, 0.06721291982429907, 0.3406476492465, 0.38322860540231246, 0.0425809561558125, 0.21290478077906247, 0.9058352973847498, 0.15293271879920134, 0.15293271879920134, 0.038233179699800335, 0.3058654375984027, 0.344098617298203, 0.8726051777790756, 0.25833488346484235, 0.025833488346484235, 0.5425032552761689, 0.12916744173242117, 0.7360904894413878, 0.1635756643203084, 0.13368444187602196, 0.5347377675040879, 0.13368444187602196, 0.590227240937127, 0.11804544818742539, 0.23609089637485078, 0.8858752305104242, 0.08053411186458402, 0.7174701173097725, 0.17936752932744313], \"Term\": [\"acabados\", \"acabados\", \"aceptable\", \"aceptable\", \"acero\", \"acierto\", \"acierto\", \"adapta\", \"ahora\", \"ahora\", \"ahora\", \"ahora\", \"ahora\", \"ahora\", \"ah\\u00ed\", \"ah\\u00ed\", \"alg\\u00fan\", \"alg\\u00fan\", \"alg\\u00fan\", \"alta\", \"alta\", \"amazon\", \"amazon\", \"amazon\", \"amazon\", \"anillo\", \"articulo\", \"articulo\", \"aspecto\", \"aspecto\", \"aspecto\", \"aun\", \"aun\", \"aunque\", \"aunque\", \"aunque\", \"aunque\", \"aunque\", \"auriculares\", \"auriculares\", \"azul\", \"a\\u00fan\", \"a\\u00fan\", \"a\\u00fan\", \"a\\u00fan\", \"baja\", \"bajo\", \"bastante\", \"bastante\", \"bastante\", \"bastante\", \"bien\", \"bien\", \"bien\", \"bien\", \"bien\", \"bien\", \"bien\", \"bolsita\", \"bolsita\", \"bonita\", \"bonita\", \"bonito\", \"bonito\", \"bonito\", \"bonito\", \"bonitos\", \"bonitos\", \"bonitos\", \"bonitos\", \"bot\\u00f3n\", \"bot\\u00f3n\", \"brillo\", \"brillo\", \"buen\", \"buen\", \"buen\", \"buen\", \"buen\", \"buena\", \"buena\", \"bueno\", \"bueno\", \"bueno\", \"bueno\", \"bueno\", \"bueno\", \"bueno\", \"cabe\", \"cabe\", \"cable\", \"cable\", \"cable\", \"cable\", \"cadena\", \"caja\", \"caja\", \"caja\", \"calidad\", \"calidad\", \"calidad\", \"calidad\", \"calidad\", \"cambiar\", \"cambiar\", \"cambiar\", \"cargador\", \"cargador\", \"cargar\", \"casa\", \"casa\", \"casa\", \"casi\", \"casi\", \"casi\", \"caso\", \"caso\", \"caso\", \"caso\", \"cerrar\", \"cerrar\", \"certificado\", \"certificado\", \"cierra\", \"cierre\", \"cierre\", \"cierre\", \"claro\", \"claro\", \"claro\", \"colgante\", \"colgante\", \"color\", \"color\", \"color\", \"color\", \"compra\", \"compra\", \"compra\", \"compra\", \"compra\", \"compra\", \"comprar\", \"comprar\", \"comprar\", \"comprar\", \"comprar\", \"compro\", \"compro\", \"condiciones\", \"conectar\", \"conectar\", \"consola\", \"consola\", \"consola\", \"consolas\", \"correctamente\", \"correctamente\", \"correcto\", \"correcto\", \"correcto\", \"creo\", \"cuello\", \"cuello\", \"cumple\", \"cumple\", \"c\\u00f3digo\", \"c\\u00f3modo\", \"c\\u00f3modo\", \"c\\u00f3modo\", \"c\\u00f3modo\", \"c\\u00f3modos\", \"c\\u00f3modos\", \"c\\u00f3modos\", \"debido\", \"debido\", \"decir\", \"decir\", \"decir\", \"decir\", \"dedo\", \"deja\", \"deja\", \"deja\", \"demasiado\", \"demasiado\", \"demasiado\", \"descripci\\u00f3n\", \"descripci\\u00f3n\", \"descripci\\u00f3n\", \"desear\", \"desear\", \"despu\\u00e9s\", \"despu\\u00e9s\", \"despu\\u00e9s\", \"despu\\u00e9s\", \"despu\\u00e9s\", \"detalle\", \"devolver\", \"devolver\", \"devolver\", \"disco\", \"disco\", \"dise\\u00f1o\", \"dise\\u00f1o\", \"dise\\u00f1o\", \"dise\\u00f1o\", \"dise\\u00f1o\", \"dos\", \"dos\", \"dos\", \"dos\", \"dos\", \"d\\u00eda\", \"d\\u00eda\", \"d\\u00eda\", \"d\\u00edas\", \"d\\u00edas\", \"d\\u00edas\", \"d\\u00edas\", \"d\\u00edas\", \"edici\\u00f3n\", \"edici\\u00f3n\", \"elegantes\", \"elegantes\", \"embalaje\", \"embalaje\", \"entender\", \"entender\", \"entrega\", \"entrega\", \"entregado\", \"entretenido\", \"entretenido\", \"envio\", \"envio\", \"envio\", \"envio\", \"env\\u00edo\", \"env\\u00edo\", \"espa\\u00f1ol\", \"espa\\u00f1ola\", \"esperaba\", \"esperaba\", \"esperaba\", \"esperaba\", \"esperando\", \"esperando\", \"espero\", \"espero\", \"espero\", \"euros\", \"euros\", \"excelente\", \"excelente\", \"excelente\", \"excelente\", \"excelente\", \"expectativas\", \"expectativas\", \"falta\", \"falta\", \"familia\", \"fan\", \"fea\", \"fecha\", \"fecha\", \"fina\", \"fina\", \"fino\", \"foto\", \"foto\", \"foto\", \"foto\", \"fotos\", \"fotos\", \"fotos\", \"fotos\", \"fotos\", \"funciona\", \"funciona\", \"funciona\", \"funciona\", \"funciona\", \"funciona\", \"funcionar\", \"funci\\u00f3n\", \"funci\\u00f3n\", \"general\", \"general\", \"general\", \"genial\", \"genial\", \"genial\", \"gracias\", \"gracias\", \"gracias\", \"gran\", \"gran\", \"gran\", \"gran\", \"grande\", \"grande\", \"grande\", \"grandes\", \"grandes\", \"gr\\u00e1ficos\", \"gusta\", \"gusta\", \"gusta\", \"gusta\", \"gusta\", \"gusta\", \"gustado\", \"gustado\", \"gustado\", \"gustado\", \"gustan\", \"gustan\", \"gustan\", \"gust\\u00f3\", \"gust\\u00f3\", \"gust\\u00f3\", \"haber\", \"haber\", \"haber\", \"hace\", \"hace\", \"hace\", \"hace\", \"hacer\", \"hacer\", \"hijo\", \"hijo\", \"historia\", \"historia\", \"hoy\", \"hoy\", \"igualmente\", \"igualmente\", \"imagen\", \"imagen\", \"ingles\", \"instrucciones\", \"interesante\", \"ir\", \"ir\", \"italiano\", \"italiano\", \"juegazo\", \"juegazo\", \"juego\", \"juego\", \"juego\", \"juegos\", \"juegos\", \"juegos\", \"jugabilidad\", \"jugabilidad\", \"jugando\", \"jugando\", \"jugar\", \"jugar\", \"jugar\", \"jugar\", \"juguete\", \"juguete\", \"lado\", \"lado\", \"lamentable\", \"lamentable\", \"largo\", \"largo\", \"llegado\", \"llegado\", \"llegado\", \"llegado\", \"llegar\", \"llegar\", \"llegar\", \"llegaron\", \"llegaron\", \"llego\", \"llego\", \"llego\", \"llego\", \"llego\", \"llego\", \"lleg\\u00f3\", \"lleg\\u00f3\", \"lleg\\u00f3\", \"lleg\\u00f3\", \"lleg\\u00f3\", \"llevas\", \"llevas\", \"luces\", \"luces\", \"luces\", \"mal\", \"mal\", \"mal\", \"mal\", \"mal\", \"mala\", \"mala\", \"mala\", \"mando\", \"mando\", \"mando\", \"mando\", \"mando\", \"mas\", \"mas\", \"mas\", \"mas\", \"mas\", \"mas\", \"mas\", \"material\", \"material\", \"materiales\", \"materiales\", \"media\", \"media\", \"mejor\", \"mejor\", \"mejor\", \"mejor\", \"mejores\", \"mejores\", \"menos\", \"menos\", \"menos\", \"merece\", \"merece\", \"meses\", \"meses\", \"meses\", \"meses\", \"mismo\", \"mismo\", \"mismo\", \"modo\", \"momento\", \"momento\", \"momento\", \"momento\", \"mont\\u00f3n\", \"mont\\u00f3n\", \"much\\u00edsimo\", \"much\\u00edsimo\", \"mujer\", \"mujer\", \"mujer\", \"nadie\", \"negra\", \"negra\", \"negro\", \"negro\", \"negro\", \"nintendo\", \"nintendo\", \"ni\\u00f1as\", \"ni\\u00f1as\", \"ni\\u00f1as\", \"normal\", \"normal\", \"nuevo\", \"nuevo\", \"nuevo\", \"nuevo\", \"one\", \"opci\\u00f3n\", \"opci\\u00f3n\", \"opci\\u00f3n\", \"opinar\", \"opinar\", \"opinar\", \"opini\\u00f3n\", \"opini\\u00f3n\", \"original\", \"original\", \"original\", \"original\", \"pandora\", \"pantalla\", \"pantalla\", \"paquete\", \"paquete\", \"paquete\", \"parece\", \"parece\", \"parece\", \"parece\", \"parece\", \"parte\", \"parte\", \"parte\", \"parte\", \"parte\", \"pc\", \"pc\", \"pc\", \"pedido\", \"pedido\", \"pedido\", \"pedido\", \"pedir\", \"pedir\", \"ped\\u00ed\", \"ped\\u00ed\", \"ped\\u00ed\", \"pena\", \"pena\", \"pena\", \"pena\", \"pendientes\", \"pendientes\", \"pendientes\", \"pendientes\", \"pens\\u00e9\", \"pens\\u00e9\", \"peque\\u00f1o\", \"peque\\u00f1o\", \"peque\\u00f1o\", \"peque\\u00f1o\", \"peque\\u00f1o\", \"peque\\u00f1os\", \"peque\\u00f1os\", \"perdido\", \"perdido\", \"perdi\\u00f3\", \"perfectamente\", \"perfectamente\", \"perfectamente\", \"perfectamente\", \"perfectamente\", \"perfecto\", \"perfecto\", \"perfecto\", \"perfecto\", \"perfecto\", \"perlas\", \"perlas\", \"peso\", \"peso\", \"piedras\", \"plata\", \"plata\", \"pl\\u00e1stico\", \"pl\\u00e1stico\", \"pl\\u00e1stico\", \"pone\", \"pone\", \"pone\", \"poner\", \"poner\", \"poner\", \"precio\", \"precio\", \"precio\", \"precio\", \"precio\", \"precio\", \"precio\", \"preciosa\", \"preciosa\", \"preciosos\", \"preciosos\", \"preciosos\", \"previsto\", \"prime\", \"prime\", \"primer\", \"primer\", \"primer\", \"pro\", \"pro\", \"problema\", \"problema\", \"problema\", \"problema\", \"problema\", \"producto\", \"producto\", \"producto\", \"producto\", \"producto\", \"producto\", \"producto\", \"ps\", \"ps\", \"ps\", \"puede\", \"puede\", \"puede\", \"puede\", \"puede\", \"puede\", \"puedes\", \"puedes\", \"puesta\", \"puestos\", \"pulsera\", \"pulsera\", \"pulsera\", \"pulseras\", \"pulseras\", \"pulseras\", \"puse\", \"puse\", \"q\", \"q\", \"queda\", \"queda\", \"queda\", \"queda\", \"quedan\", \"quedan\", \"quedan\", \"quer\\u00eda\", \"quer\\u00eda\", \"quer\\u00eda\", \"quiz\\u00e1s\", \"quiz\\u00e1s\", \"rapidez\", \"rapido\", \"rapido\", \"rapido\", \"rato\", \"rat\\u00f3n\", \"realidad\", \"recibido\", \"recibido\", \"recomiendo\", \"recomiendo\", \"recomiendo\", \"recomiendo\", \"regalar\", \"regalar\", \"regalar\", \"regalo\", \"regalo\", \"regalo\", \"regalo\", \"regalo\", \"regalo\", \"relaci\\u00f3n\", \"relaci\\u00f3n\", \"repartidor\", \"repartidor\", \"respecto\", \"respecto\", \"respecto\", \"rompio\", \"rompio\", \"roto\", \"roto\", \"roto\", \"r\\u00e1pido\", \"r\\u00e1pido\", \"r\\u00e1pido\", \"r\\u00e1pido\", \"r\\u00e1pido\", \"saga\", \"semana\", \"semana\", \"semana\", \"ser\", \"ser\", \"ser\", \"ser\", \"ser\", \"servicio\", \"servicio\", \"si\", \"si\", \"si\", \"si\", \"si\", \"siempre\", \"siempre\", \"siempre\", \"siempre\", \"sigue\", \"sigue\", \"simplemente\", \"simplemente\", \"sirve\", \"sirve\", \"solo\", \"solo\", \"solo\", \"solo\", \"solo\", \"solo\", \"sonido\", \"sonido\", \"sonido\", \"sony\", \"sony\", \"super\", \"super\", \"switch\", \"switch\", \"switch\", \"s\\u00e9\", \"s\\u00e9\", \"s\\u00e9\", \"tacto\", \"tacto\", \"tacto\", \"tal\", \"tal\", \"tal\", \"tal\", \"tama\\u00f1o\", \"tama\\u00f1o\", \"tama\\u00f1o\", \"tampoco\", \"tampoco\", \"tampoco\", \"tan\", \"tan\", \"tan\", \"tan\", \"tener\", \"tener\", \"tiempo\", \"tiempo\", \"tiempo\", \"tiempo\", \"tiempo\", \"tiempo\", \"tiempo\", \"tienda\", \"tienda\", \"tiendas\", \"tiendas\", \"toda\", \"toda\", \"todas\", \"todas\", \"todas\", \"todav\\u00eda\", \"trae\", \"trae\", \"trae\", \"trae\", \"transporte\", \"transporte\", \"usado\", \"usado\", \"usar\", \"usar\", \"va\", \"va\", \"va\", \"va\", \"va\", \"va\", \"vale\", \"vale\", \"vale\", \"ve\", \"ve\", \"ve\", \"ven\", \"vendedor\", \"vendedor\", \"vendedor\", \"venido\", \"venido\", \"veo\", \"veo\", \"ver\", \"ver\", \"ver\", \"ver\", \"verdad\", \"verdad\", \"verdad\", \"verdad\", \"versi\\u00f3n\", \"vez\", \"vez\", \"vez\", \"vez\", \"vez\", \"videojuegos\", \"viene\", \"viene\", \"viene\", \"viene\", \"vienen\", \"vienen\", \"volver\\u00eda\", \"volver\\u00eda\", \"volver\\u00eda\", \"voy\", \"voy\", \"voy\", \"xbox\", \"xbox\", \"\\u00fanica\", \"\\u00fanica\"]}, \"R\": 30, \"lambda.step\": 0.01, \"plot.opts\": {\"xlab\": \"PC1\", \"ylab\": \"PC2\"}, \"topic.order\": [3, 6, 7, 1, 5, 2, 4]};\n",
              "\n",
              "function LDAvis_load_lib(url, callback){\n",
              "  var s = document.createElement('script');\n",
              "  s.src = url;\n",
              "  s.async = true;\n",
              "  s.onreadystatechange = s.onload = callback;\n",
              "  s.onerror = function(){console.warn(\"failed to load library \" + url);};\n",
              "  document.getElementsByTagName(\"head\")[0].appendChild(s);\n",
              "}\n",
              "\n",
              "if(typeof(LDAvis) !== \"undefined\"){\n",
              "   // already loaded: just create the visualization\n",
              "   !function(LDAvis){\n",
              "       new LDAvis(\"#\" + \"ldavis_el2741397164666889767527496985\", ldavis_el2741397164666889767527496985_data);\n",
              "   }(LDAvis);\n",
              "}else if(typeof define === \"function\" && define.amd){\n",
              "   // require.js is available: use it to load d3/LDAvis\n",
              "   require.config({paths: {d3: \"https://d3js.org/d3.v5\"}});\n",
              "   require([\"d3\"], function(d3){\n",
              "      window.d3 = d3;\n",
              "      LDAvis_load_lib(\"https://cdn.jsdelivr.net/gh/bmabey/pyLDAvis@3.3.1/pyLDAvis/js/ldavis.v3.0.0.js\", function(){\n",
              "        new LDAvis(\"#\" + \"ldavis_el2741397164666889767527496985\", ldavis_el2741397164666889767527496985_data);\n",
              "      });\n",
              "    });\n",
              "}else{\n",
              "    // require.js not available: dynamically load d3 & LDAvis\n",
              "    LDAvis_load_lib(\"https://d3js.org/d3.v5.js\", function(){\n",
              "         LDAvis_load_lib(\"https://cdn.jsdelivr.net/gh/bmabey/pyLDAvis@3.3.1/pyLDAvis/js/ldavis.v3.0.0.js\", function(){\n",
              "                 new LDAvis(\"#\" + \"ldavis_el2741397164666889767527496985\", ldavis_el2741397164666889767527496985_data);\n",
              "            })\n",
              "         });\n",
              "}\n",
              "</script>"
            ],
            "text/plain": [
              "<IPython.core.display.HTML object>"
            ]
          },
          "metadata": {
            "tags": []
          },
          "execution_count": 29
        }
      ]
    },
    {
      "cell_type": "markdown",
      "metadata": {
        "id": "mdyFrsAIY6R6"
      },
      "source": [
        "###  `[3 pts]` Preguntas\n",
        "\n",
        "- ¿Qué conclusiones puede sacar de los resultados de los últimos tres talleres, usando diferentes modelos pero los mismos datos?"
      ]
    },
    {
      "cell_type": "markdown",
      "metadata": {
        "id": "KdVL_Ydik67X"
      },
      "source": [
        "\n",
        "\n",
        "*   En el modelo de LDA podemos ver que en general es un buen modelo , sin embargo se evidencia que no realizo una correcta particion de temas en el circulo 2 y 7 \n",
        "*   El modelo de LDA y SVM es mucho mas rapido de ejectutar que el metodo del Codo\n",
        "*   Hasta el momento se podria decir que ha tenido mejor puntaje el modelo de SVM\n",
        "\n",
        "\n",
        "\n",
        "\n"
      ]
    }
  ]
}