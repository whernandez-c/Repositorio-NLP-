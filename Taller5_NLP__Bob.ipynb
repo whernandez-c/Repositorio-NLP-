{
  "nbformat": 4,
  "nbformat_minor": 0,
  "metadata": {
    "kernelspec": {
      "display_name": "Python 3",
      "language": "python",
      "name": "python3"
    },
    "language_info": {
      "codemirror_mode": {
        "name": "ipython",
        "version": 3
      },
      "file_extension": ".py",
      "mimetype": "text/x-python",
      "name": "python",
      "nbconvert_exporter": "python",
      "pygments_lexer": "ipython3",
      "version": "3.7.4"
    },
    "colab": {
      "name": "Taller5_NLP__Bob.ipynb",
      "provenance": [],
      "collapsed_sections": [],
      "toc_visible": true
    }
  },
  "cells": [
    {
      "cell_type": "markdown",
      "metadata": {
        "id": "-dyMYp1Xv5_l"
      },
      "source": [
        "<img src='https://encrypted-tbn0.gstatic.com/images?q=tbn%3AANd9GcQ-VfNtOyJbsaxu43Kztf_cv1mgBG6ZIQZEVw&usqp=CAU'>\n",
        "\n",
        "# Procesamiento de Lenguaje Natural\n",
        "\n",
        "## Taller #5: TF-IDF\n",
        "`Fecha de entrega: Marzo 25, 2021. (Antes del inicio de la próxima clase).`\n",
        "\n",
        "`Modo de entrega: Subir link de GitHub al aula virtual.`"
      ]
    },
    {
      "cell_type": "code",
      "metadata": {
        "id": "jbf66JrowKdx"
      },
      "source": [
        "import re\n",
        "import pandas as pd\n",
        "from collections import Counter\n",
        "\n",
        "from nltk.corpus import stopwords"
      ],
      "execution_count": 1,
      "outputs": []
    },
    {
      "cell_type": "code",
      "metadata": {
        "colab": {
          "base_uri": "https://localhost:8080/"
        },
        "id": "Tw6x1ztfwLqa",
        "outputId": "007e8692-7b97-4bdc-a66b-ed03456bbb03"
      },
      "source": [
        "import nltk\n",
        "nltk.download('stopwords')"
      ],
      "execution_count": 2,
      "outputs": [
        {
          "output_type": "stream",
          "text": [
            "[nltk_data] Downloading package stopwords to /root/nltk_data...\n",
            "[nltk_data]   Unzipping corpora/stopwords.zip.\n"
          ],
          "name": "stdout"
        },
        {
          "output_type": "execute_result",
          "data": {
            "text/plain": [
              "True"
            ]
          },
          "metadata": {
            "tags": []
          },
          "execution_count": 2
        }
      ]
    },
    {
      "cell_type": "code",
      "metadata": {
        "id": "tgYB-jDfwN1E"
      },
      "source": [
        "stopwords_sp = stopwords.words('spanish')\n",
        "\n",
        "from sklearn.feature_extraction.text import CountVectorizer"
      ],
      "execution_count": 3,
      "outputs": []
    },
    {
      "cell_type": "code",
      "metadata": {
        "id": "gja8PS7XwQsg"
      },
      "source": [
        "from sklearn.feature_extraction.text import TfidfVectorizer\n",
        "from sklearn.metrics.pairwise import cosine_distances"
      ],
      "execution_count": 4,
      "outputs": []
    },
    {
      "cell_type": "code",
      "metadata": {
        "id": "KMfHsvQKwU3S"
      },
      "source": [
        "from nltk.stem.snowball import SnowballStemmer\n",
        "spanishStemmer=SnowballStemmer(\"spanish\")"
      ],
      "execution_count": 5,
      "outputs": []
    },
    {
      "cell_type": "markdown",
      "metadata": {
        "id": "-Gas1lRKv5_v"
      },
      "source": [
        "# Punto 1: Pre-Procesamiento\n",
        "\n",
        "- `[9 pts]` Leer el archivo `bob_esponja.csv` usando `pandas`\n",
        "- `[9 pts]` Crear una nueva columna con el texto en minúscula, sin caracteres especiales ni números, sin palabras vacias y hacer stemming de las palabras"
      ]
    },
    {
      "cell_type": "code",
      "metadata": {
        "colab": {
          "base_uri": "https://localhost:8080/",
          "height": 359
        },
        "id": "JeHWN2dwA5hL",
        "outputId": "276e61fc-44b1-49ee-e298-dcd6da04fb8a"
      },
      "source": [
        "Bob = pd.read_csv ('bob_esponja.csv')\n",
        "Bob"
      ],
      "execution_count": 8,
      "outputs": [
        {
          "output_type": "execute_result",
          "data": {
            "text/html": [
              "<div>\n",
              "<style scoped>\n",
              "    .dataframe tbody tr th:only-of-type {\n",
              "        vertical-align: middle;\n",
              "    }\n",
              "\n",
              "    .dataframe tbody tr th {\n",
              "        vertical-align: top;\n",
              "    }\n",
              "\n",
              "    .dataframe thead th {\n",
              "        text-align: right;\n",
              "    }\n",
              "</style>\n",
              "<table border=\"1\" class=\"dataframe\">\n",
              "  <thead>\n",
              "    <tr style=\"text-align: right;\">\n",
              "      <th></th>\n",
              "      <th>Personaje</th>\n",
              "      <th>Descripción</th>\n",
              "    </tr>\n",
              "  </thead>\n",
              "  <tbody>\n",
              "    <tr>\n",
              "      <th>0</th>\n",
              "      <td>Bob Esponja Pantalones Cuadrados</td>\n",
              "      <td>Bob Esponja es una esponja de mar con forma re...</td>\n",
              "    </tr>\n",
              "    <tr>\n",
              "      <th>1</th>\n",
              "      <td>Patricio Estrella</td>\n",
              "      <td>Es una estrella de mar de color rosa, el mejor...</td>\n",
              "    </tr>\n",
              "    <tr>\n",
              "      <th>2</th>\n",
              "      <td>Calamardo Tentáculos</td>\n",
              "      <td>Calamardo Tentáculos es un personaje principal...</td>\n",
              "    </tr>\n",
              "    <tr>\n",
              "      <th>3</th>\n",
              "      <td>Arenita Mejillas</td>\n",
              "      <td>Arenita Mejillas (Sandy Cheeks en inglés) en u...</td>\n",
              "    </tr>\n",
              "    <tr>\n",
              "      <th>4</th>\n",
              "      <td>Eugenio H. Cangrejo</td>\n",
              "      <td>Don Eugenio H. Cangrejo (normalmente llamado S...</td>\n",
              "    </tr>\n",
              "    <tr>\n",
              "      <th>5</th>\n",
              "      <td>Sheldon J. Plankton</td>\n",
              "      <td>Sheldon J. Plankton, o simplemente Plankton, e...</td>\n",
              "    </tr>\n",
              "    <tr>\n",
              "      <th>6</th>\n",
              "      <td>Karen Plankton</td>\n",
              "      <td>Karen Plankton es uno de los dos principales a...</td>\n",
              "    </tr>\n",
              "    <tr>\n",
              "      <th>7</th>\n",
              "      <td>Perlita Cangrejo</td>\n",
              "      <td>Perla \"Perlita\" Cangrejo es un personaje princ...</td>\n",
              "    </tr>\n",
              "    <tr>\n",
              "      <th>8</th>\n",
              "      <td>Sra. Puff</td>\n",
              "      <td>La Señora Puff es un personaje principal de Bo...</td>\n",
              "    </tr>\n",
              "    <tr>\n",
              "      <th>9</th>\n",
              "      <td>Gary el Caracol</td>\n",
              "      <td>Gary el Caracol es un personaje principal de B...</td>\n",
              "    </tr>\n",
              "  </tbody>\n",
              "</table>\n",
              "</div>"
            ],
            "text/plain": [
              "                          Personaje                                        Descripción\n",
              "0  Bob Esponja Pantalones Cuadrados  Bob Esponja es una esponja de mar con forma re...\n",
              "1                 Patricio Estrella  Es una estrella de mar de color rosa, el mejor...\n",
              "2              Calamardo Tentáculos  Calamardo Tentáculos es un personaje principal...\n",
              "3                  Arenita Mejillas  Arenita Mejillas (Sandy Cheeks en inglés) en u...\n",
              "4               Eugenio H. Cangrejo  Don Eugenio H. Cangrejo (normalmente llamado S...\n",
              "5               Sheldon J. Plankton  Sheldon J. Plankton, o simplemente Plankton, e...\n",
              "6                    Karen Plankton  Karen Plankton es uno de los dos principales a...\n",
              "7                  Perlita Cangrejo  Perla \"Perlita\" Cangrejo es un personaje princ...\n",
              "8                         Sra. Puff  La Señora Puff es un personaje principal de Bo...\n",
              "9                   Gary el Caracol  Gary el Caracol es un personaje principal de B..."
            ]
          },
          "metadata": {
            "tags": []
          },
          "execution_count": 8
        }
      ]
    },
    {
      "cell_type": "code",
      "metadata": {
        "id": "_7L7Q8tPCi85"
      },
      "source": [
        "def Descripción (texto):\n",
        "    texto = texto.lower()\n",
        "    texto = re.sub(r\"[\\W\\d_]+\", \" \",texto)\n",
        "    texto = [palabra for palabra in texto.split() if palabra not in stopwords_sp]\n",
        "    texto = \" \".join([spanishStemmer.stem(palabra) for palabra in texto])\n",
        "    return(texto)"
      ],
      "execution_count": 12,
      "outputs": []
    },
    {
      "cell_type": "code",
      "metadata": {
        "id": "6iq64XP8v5_x",
        "colab": {
          "base_uri": "https://localhost:8080/",
          "height": 359
        },
        "outputId": "ae4693b1-b3ed-4753-e118-c71039af3ee7"
      },
      "source": [
        "Bob['Descripción-pre'] = Bob['Descripción'].apply(lambda texto:pre_procesado (texto))\n",
        "Bob"
      ],
      "execution_count": 13,
      "outputs": [
        {
          "output_type": "execute_result",
          "data": {
            "text/html": [
              "<div>\n",
              "<style scoped>\n",
              "    .dataframe tbody tr th:only-of-type {\n",
              "        vertical-align: middle;\n",
              "    }\n",
              "\n",
              "    .dataframe tbody tr th {\n",
              "        vertical-align: top;\n",
              "    }\n",
              "\n",
              "    .dataframe thead th {\n",
              "        text-align: right;\n",
              "    }\n",
              "</style>\n",
              "<table border=\"1\" class=\"dataframe\">\n",
              "  <thead>\n",
              "    <tr style=\"text-align: right;\">\n",
              "      <th></th>\n",
              "      <th>Personaje</th>\n",
              "      <th>Descripción</th>\n",
              "      <th>Descripción-pre</th>\n",
              "    </tr>\n",
              "  </thead>\n",
              "  <tbody>\n",
              "    <tr>\n",
              "      <th>0</th>\n",
              "      <td>Bob Esponja Pantalones Cuadrados</td>\n",
              "      <td>Bob Esponja es una esponja de mar con forma re...</td>\n",
              "      <td>bob esponj esponj mar form rectangul color ama...</td>\n",
              "    </tr>\n",
              "    <tr>\n",
              "      <th>1</th>\n",
              "      <td>Patricio Estrella</td>\n",
              "      <td>Es una estrella de mar de color rosa, el mejor...</td>\n",
              "      <td>estrell mar color ros mejor amig bob esponj ju...</td>\n",
              "    </tr>\n",
              "    <tr>\n",
              "      <th>2</th>\n",
              "      <td>Calamardo Tentáculos</td>\n",
              "      <td>Calamardo Tentáculos es un personaje principal...</td>\n",
              "      <td>calamard tentacul personaj principal bob espon...</td>\n",
              "    </tr>\n",
              "    <tr>\n",
              "      <th>3</th>\n",
              "      <td>Arenita Mejillas</td>\n",
              "      <td>Arenita Mejillas (Sandy Cheeks en inglés) en u...</td>\n",
              "      <td>arenit mejill sandy cheeks ingles personaj pri...</td>\n",
              "    </tr>\n",
              "    <tr>\n",
              "      <th>4</th>\n",
              "      <td>Eugenio H. Cangrejo</td>\n",
              "      <td>Don Eugenio H. Cangrejo (normalmente llamado S...</td>\n",
              "      <td>don eugeni h cangrej normal llam señor cangrej...</td>\n",
              "    </tr>\n",
              "    <tr>\n",
              "      <th>5</th>\n",
              "      <td>Sheldon J. Plankton</td>\n",
              "      <td>Sheldon J. Plankton, o simplemente Plankton, e...</td>\n",
              "      <td>sheldon j plankton simplement plankton dos ant...</td>\n",
              "    </tr>\n",
              "    <tr>\n",
              "      <th>6</th>\n",
              "      <td>Karen Plankton</td>\n",
              "      <td>Karen Plankton es uno de los dos principales a...</td>\n",
              "      <td>kar plankton dos principal antagon bob esponj ...</td>\n",
              "    </tr>\n",
              "    <tr>\n",
              "      <th>7</th>\n",
              "      <td>Perlita Cangrejo</td>\n",
              "      <td>Perla \"Perlita\" Cangrejo es un personaje princ...</td>\n",
              "      <td>perl perlit cangrej personaj principal bob esp...</td>\n",
              "    </tr>\n",
              "    <tr>\n",
              "      <th>8</th>\n",
              "      <td>Sra. Puff</td>\n",
              "      <td>La Señora Puff es un personaje principal de Bo...</td>\n",
              "      <td>señor puff personaj principal bob esponj maest...</td>\n",
              "    </tr>\n",
              "    <tr>\n",
              "      <th>9</th>\n",
              "      <td>Gary el Caracol</td>\n",
              "      <td>Gary el Caracol es un personaje principal de B...</td>\n",
              "      <td>gary caracol personaj principal bob esponj que...</td>\n",
              "    </tr>\n",
              "  </tbody>\n",
              "</table>\n",
              "</div>"
            ],
            "text/plain": [
              "                          Personaje  ...                                    Descripción-pre\n",
              "0  Bob Esponja Pantalones Cuadrados  ...  bob esponj esponj mar form rectangul color ama...\n",
              "1                 Patricio Estrella  ...  estrell mar color ros mejor amig bob esponj ju...\n",
              "2              Calamardo Tentáculos  ...  calamard tentacul personaj principal bob espon...\n",
              "3                  Arenita Mejillas  ...  arenit mejill sandy cheeks ingles personaj pri...\n",
              "4               Eugenio H. Cangrejo  ...  don eugeni h cangrej normal llam señor cangrej...\n",
              "5               Sheldon J. Plankton  ...  sheldon j plankton simplement plankton dos ant...\n",
              "6                    Karen Plankton  ...  kar plankton dos principal antagon bob esponj ...\n",
              "7                  Perlita Cangrejo  ...  perl perlit cangrej personaj principal bob esp...\n",
              "8                         Sra. Puff  ...  señor puff personaj principal bob esponj maest...\n",
              "9                   Gary el Caracol  ...  gary caracol personaj principal bob esponj que...\n",
              "\n",
              "[10 rows x 3 columns]"
            ]
          },
          "metadata": {
            "tags": []
          },
          "execution_count": 13
        }
      ]
    },
    {
      "cell_type": "markdown",
      "metadata": {
        "id": "biZQ-BYFv5_y"
      },
      "source": [
        "# Punto 2: TF-IDF\n",
        "\n",
        "- `[16 pts]` Crear la matriz TF-IDF"
      ]
    },
    {
      "cell_type": "code",
      "metadata": {
        "colab": {
          "base_uri": "https://localhost:8080/",
          "height": 453
        },
        "id": "bJwNivEDDuNz",
        "outputId": "7d2e7d55-d1eb-4785-d734-bb64703c9c4d"
      },
      "source": [
        "tfidf_vect = TfidfVectorizer()\n",
        "tfidf = tfidf_vect.fit_transform(Bob['Descripción-pre'].values)\n",
        "tfidf_matrix = pd.DataFrame(tfidf.toarray(), columns=tfidf_vect.get_feature_names())\n",
        "tfidf_matrix.index = Bob.Personaje\n",
        "tfidf_matrix.T.round(3)\n",
        "\n",
        "tfidf_vect = TfidfVectorizer()\n",
        "tfidf = tfidf_vect.fit_transform(Bob['Descripción-pre'].values)\n",
        "tfidf_matrix = pd.DataFrame(tfidf.toarray(), columns=tfidf_vect.get_feature_names(), index= Bob.Personaje)\n",
        "tfidf_matrix.T.round(3)"
      ],
      "execution_count": 15,
      "outputs": [
        {
          "output_type": "execute_result",
          "data": {
            "text/html": [
              "<div>\n",
              "<style scoped>\n",
              "    .dataframe tbody tr th:only-of-type {\n",
              "        vertical-align: middle;\n",
              "    }\n",
              "\n",
              "    .dataframe tbody tr th {\n",
              "        vertical-align: top;\n",
              "    }\n",
              "\n",
              "    .dataframe thead th {\n",
              "        text-align: right;\n",
              "    }\n",
              "</style>\n",
              "<table border=\"1\" class=\"dataframe\">\n",
              "  <thead>\n",
              "    <tr style=\"text-align: right;\">\n",
              "      <th>Personaje</th>\n",
              "      <th>Bob Esponja Pantalones Cuadrados</th>\n",
              "      <th>Patricio Estrella</th>\n",
              "      <th>Calamardo Tentáculos</th>\n",
              "      <th>Arenita Mejillas</th>\n",
              "      <th>Eugenio H. Cangrejo</th>\n",
              "      <th>Sheldon J. Plankton</th>\n",
              "      <th>Karen Plankton</th>\n",
              "      <th>Perlita Cangrejo</th>\n",
              "      <th>Sra. Puff</th>\n",
              "      <th>Gary el Caracol</th>\n",
              "    </tr>\n",
              "  </thead>\n",
              "  <tbody>\n",
              "    <tr>\n",
              "      <th>abaj</th>\n",
              "      <td>0.057</td>\n",
              "      <td>0.00</td>\n",
              "      <td>0.000</td>\n",
              "      <td>0.000</td>\n",
              "      <td>0.000</td>\n",
              "      <td>0.0</td>\n",
              "      <td>0.000</td>\n",
              "      <td>0.0</td>\n",
              "      <td>0.000</td>\n",
              "      <td>0.000</td>\n",
              "    </tr>\n",
              "    <tr>\n",
              "      <th>aborrec</th>\n",
              "      <td>0.000</td>\n",
              "      <td>0.00</td>\n",
              "      <td>0.091</td>\n",
              "      <td>0.000</td>\n",
              "      <td>0.000</td>\n",
              "      <td>0.0</td>\n",
              "      <td>0.000</td>\n",
              "      <td>0.0</td>\n",
              "      <td>0.000</td>\n",
              "      <td>0.000</td>\n",
              "    </tr>\n",
              "    <tr>\n",
              "      <th>acab</th>\n",
              "      <td>0.000</td>\n",
              "      <td>0.00</td>\n",
              "      <td>0.091</td>\n",
              "      <td>0.000</td>\n",
              "      <td>0.000</td>\n",
              "      <td>0.0</td>\n",
              "      <td>0.000</td>\n",
              "      <td>0.0</td>\n",
              "      <td>0.000</td>\n",
              "      <td>0.000</td>\n",
              "    </tr>\n",
              "    <tr>\n",
              "      <th>accident</th>\n",
              "      <td>0.049</td>\n",
              "      <td>0.00</td>\n",
              "      <td>0.000</td>\n",
              "      <td>0.000</td>\n",
              "      <td>0.045</td>\n",
              "      <td>0.0</td>\n",
              "      <td>0.000</td>\n",
              "      <td>0.0</td>\n",
              "      <td>0.000</td>\n",
              "      <td>0.000</td>\n",
              "    </tr>\n",
              "    <tr>\n",
              "      <th>acept</th>\n",
              "      <td>0.000</td>\n",
              "      <td>0.00</td>\n",
              "      <td>0.000</td>\n",
              "      <td>0.000</td>\n",
              "      <td>0.000</td>\n",
              "      <td>0.0</td>\n",
              "      <td>0.064</td>\n",
              "      <td>0.0</td>\n",
              "      <td>0.000</td>\n",
              "      <td>0.000</td>\n",
              "    </tr>\n",
              "    <tr>\n",
              "      <th>...</th>\n",
              "      <td>...</td>\n",
              "      <td>...</td>\n",
              "      <td>...</td>\n",
              "      <td>...</td>\n",
              "      <td>...</td>\n",
              "      <td>...</td>\n",
              "      <td>...</td>\n",
              "      <td>...</td>\n",
              "      <td>...</td>\n",
              "      <td>...</td>\n",
              "    </tr>\n",
              "    <tr>\n",
              "      <th>viv</th>\n",
              "      <td>0.000</td>\n",
              "      <td>0.05</td>\n",
              "      <td>0.060</td>\n",
              "      <td>0.108</td>\n",
              "      <td>0.070</td>\n",
              "      <td>0.0</td>\n",
              "      <td>0.000</td>\n",
              "      <td>0.0</td>\n",
              "      <td>0.000</td>\n",
              "      <td>0.000</td>\n",
              "    </tr>\n",
              "    <tr>\n",
              "      <th>vol</th>\n",
              "      <td>0.057</td>\n",
              "      <td>0.00</td>\n",
              "      <td>0.000</td>\n",
              "      <td>0.000</td>\n",
              "      <td>0.000</td>\n",
              "      <td>0.0</td>\n",
              "      <td>0.000</td>\n",
              "      <td>0.0</td>\n",
              "      <td>0.000</td>\n",
              "      <td>0.000</td>\n",
              "    </tr>\n",
              "    <tr>\n",
              "      <th>voz</th>\n",
              "      <td>0.195</td>\n",
              "      <td>0.00</td>\n",
              "      <td>0.000</td>\n",
              "      <td>0.139</td>\n",
              "      <td>0.000</td>\n",
              "      <td>0.0</td>\n",
              "      <td>0.000</td>\n",
              "      <td>0.0</td>\n",
              "      <td>0.000</td>\n",
              "      <td>0.000</td>\n",
              "    </tr>\n",
              "    <tr>\n",
              "      <th>vuelv</th>\n",
              "      <td>0.172</td>\n",
              "      <td>0.00</td>\n",
              "      <td>0.000</td>\n",
              "      <td>0.000</td>\n",
              "      <td>0.000</td>\n",
              "      <td>0.0</td>\n",
              "      <td>0.000</td>\n",
              "      <td>0.0</td>\n",
              "      <td>0.000</td>\n",
              "      <td>0.000</td>\n",
              "    </tr>\n",
              "    <tr>\n",
              "      <th>zapat</th>\n",
              "      <td>0.043</td>\n",
              "      <td>0.00</td>\n",
              "      <td>0.000</td>\n",
              "      <td>0.000</td>\n",
              "      <td>0.000</td>\n",
              "      <td>0.0</td>\n",
              "      <td>0.000</td>\n",
              "      <td>0.0</td>\n",
              "      <td>0.093</td>\n",
              "      <td>0.068</td>\n",
              "    </tr>\n",
              "  </tbody>\n",
              "</table>\n",
              "<p>709 rows × 10 columns</p>\n",
              "</div>"
            ],
            "text/plain": [
              "Personaje  Bob Esponja Pantalones Cuadrados  ...  Gary el Caracol\n",
              "abaj                                  0.057  ...            0.000\n",
              "aborrec                               0.000  ...            0.000\n",
              "acab                                  0.000  ...            0.000\n",
              "accident                              0.049  ...            0.000\n",
              "acept                                 0.000  ...            0.000\n",
              "...                                     ...  ...              ...\n",
              "viv                                   0.000  ...            0.000\n",
              "vol                                   0.057  ...            0.000\n",
              "voz                                   0.195  ...            0.000\n",
              "vuelv                                 0.172  ...            0.000\n",
              "zapat                                 0.043  ...            0.068\n",
              "\n",
              "[709 rows x 10 columns]"
            ]
          },
          "metadata": {
            "tags": []
          },
          "execution_count": 15
        }
      ]
    },
    {
      "cell_type": "markdown",
      "metadata": {
        "id": "pafxOgvrv5_z"
      },
      "source": [
        "# Punto 3: Distancia del coseno\n",
        "- `[12 pts]` Calcular la distancia del coseno entre cada una de los personajes\n",
        "- `[2 pts]` ¿Cuáles son los personajes más parecidos?\n",
        "- `[2 pts]` ¿Cuáles son los personajes más diferentes?"
      ]
    },
    {
      "cell_type": "code",
      "metadata": {
        "colab": {
          "base_uri": "https://localhost:8080/",
          "height": 543
        },
        "id": "vuh1qd9qE65w",
        "outputId": "448060a2-fc3c-4f92-fc3b-f7ef6e3df9cc"
      },
      "source": [
        "from sklearn.metrics.pairwise import cosine_distances\n",
        "dist_cos = cosine_distances(tfidf_matrix.values)\n",
        "dist_cos = pd.DataFrame(dist_cos, columns= tfidf_matrix.T.columns, index = tfidf_matrix.T.columns)\n",
        "dist_cos"
      ],
      "execution_count": 16,
      "outputs": [
        {
          "output_type": "execute_result",
          "data": {
            "text/html": [
              "<div>\n",
              "<style scoped>\n",
              "    .dataframe tbody tr th:only-of-type {\n",
              "        vertical-align: middle;\n",
              "    }\n",
              "\n",
              "    .dataframe tbody tr th {\n",
              "        vertical-align: top;\n",
              "    }\n",
              "\n",
              "    .dataframe thead th {\n",
              "        text-align: right;\n",
              "    }\n",
              "</style>\n",
              "<table border=\"1\" class=\"dataframe\">\n",
              "  <thead>\n",
              "    <tr style=\"text-align: right;\">\n",
              "      <th>Personaje</th>\n",
              "      <th>Bob Esponja Pantalones Cuadrados</th>\n",
              "      <th>Patricio Estrella</th>\n",
              "      <th>Calamardo Tentáculos</th>\n",
              "      <th>Arenita Mejillas</th>\n",
              "      <th>Eugenio H. Cangrejo</th>\n",
              "      <th>Sheldon J. Plankton</th>\n",
              "      <th>Karen Plankton</th>\n",
              "      <th>Perlita Cangrejo</th>\n",
              "      <th>Sra. Puff</th>\n",
              "      <th>Gary el Caracol</th>\n",
              "    </tr>\n",
              "    <tr>\n",
              "      <th>Personaje</th>\n",
              "      <th></th>\n",
              "      <th></th>\n",
              "      <th></th>\n",
              "      <th></th>\n",
              "      <th></th>\n",
              "      <th></th>\n",
              "      <th></th>\n",
              "      <th></th>\n",
              "      <th></th>\n",
              "      <th></th>\n",
              "    </tr>\n",
              "  </thead>\n",
              "  <tbody>\n",
              "    <tr>\n",
              "      <th>Bob Esponja Pantalones Cuadrados</th>\n",
              "      <td>0.000000</td>\n",
              "      <td>0.826466</td>\n",
              "      <td>0.918853</td>\n",
              "      <td>0.838917</td>\n",
              "      <td>0.868554</td>\n",
              "      <td>0.872613</td>\n",
              "      <td>0.938901</td>\n",
              "      <td>0.886072</td>\n",
              "      <td>0.857937</td>\n",
              "      <td>0.924381</td>\n",
              "    </tr>\n",
              "    <tr>\n",
              "      <th>Patricio Estrella</th>\n",
              "      <td>0.826466</td>\n",
              "      <td>0.000000</td>\n",
              "      <td>0.791198</td>\n",
              "      <td>0.841713</td>\n",
              "      <td>0.831869</td>\n",
              "      <td>0.966669</td>\n",
              "      <td>0.930557</td>\n",
              "      <td>0.891881</td>\n",
              "      <td>0.952574</td>\n",
              "      <td>0.895000</td>\n",
              "    </tr>\n",
              "    <tr>\n",
              "      <th>Calamardo Tentáculos</th>\n",
              "      <td>0.918853</td>\n",
              "      <td>0.791198</td>\n",
              "      <td>0.000000</td>\n",
              "      <td>0.920036</td>\n",
              "      <td>0.831488</td>\n",
              "      <td>0.917784</td>\n",
              "      <td>0.950219</td>\n",
              "      <td>0.967358</td>\n",
              "      <td>0.968076</td>\n",
              "      <td>0.852161</td>\n",
              "    </tr>\n",
              "    <tr>\n",
              "      <th>Arenita Mejillas</th>\n",
              "      <td>0.838917</td>\n",
              "      <td>0.841713</td>\n",
              "      <td>0.920036</td>\n",
              "      <td>0.000000</td>\n",
              "      <td>0.908027</td>\n",
              "      <td>0.967723</td>\n",
              "      <td>0.948562</td>\n",
              "      <td>0.962264</td>\n",
              "      <td>0.972093</td>\n",
              "      <td>0.900968</td>\n",
              "    </tr>\n",
              "    <tr>\n",
              "      <th>Eugenio H. Cangrejo</th>\n",
              "      <td>0.868554</td>\n",
              "      <td>0.831869</td>\n",
              "      <td>0.831488</td>\n",
              "      <td>0.908027</td>\n",
              "      <td>0.000000</td>\n",
              "      <td>0.687797</td>\n",
              "      <td>0.892102</td>\n",
              "      <td>0.796912</td>\n",
              "      <td>0.895877</td>\n",
              "      <td>0.920780</td>\n",
              "    </tr>\n",
              "    <tr>\n",
              "      <th>Sheldon J. Plankton</th>\n",
              "      <td>0.872613</td>\n",
              "      <td>0.966669</td>\n",
              "      <td>0.917784</td>\n",
              "      <td>0.967723</td>\n",
              "      <td>0.687797</td>\n",
              "      <td>0.000000</td>\n",
              "      <td>0.795121</td>\n",
              "      <td>0.922782</td>\n",
              "      <td>0.986743</td>\n",
              "      <td>0.969443</td>\n",
              "    </tr>\n",
              "    <tr>\n",
              "      <th>Karen Plankton</th>\n",
              "      <td>0.938901</td>\n",
              "      <td>0.930557</td>\n",
              "      <td>0.950219</td>\n",
              "      <td>0.948562</td>\n",
              "      <td>0.892102</td>\n",
              "      <td>0.795121</td>\n",
              "      <td>0.000000</td>\n",
              "      <td>0.966336</td>\n",
              "      <td>0.984939</td>\n",
              "      <td>0.965513</td>\n",
              "    </tr>\n",
              "    <tr>\n",
              "      <th>Perlita Cangrejo</th>\n",
              "      <td>0.886072</td>\n",
              "      <td>0.891881</td>\n",
              "      <td>0.967358</td>\n",
              "      <td>0.962264</td>\n",
              "      <td>0.796912</td>\n",
              "      <td>0.922782</td>\n",
              "      <td>0.966336</td>\n",
              "      <td>0.000000</td>\n",
              "      <td>0.873928</td>\n",
              "      <td>0.969604</td>\n",
              "    </tr>\n",
              "    <tr>\n",
              "      <th>Sra. Puff</th>\n",
              "      <td>0.857937</td>\n",
              "      <td>0.952574</td>\n",
              "      <td>0.968076</td>\n",
              "      <td>0.972093</td>\n",
              "      <td>0.895877</td>\n",
              "      <td>0.986743</td>\n",
              "      <td>0.984939</td>\n",
              "      <td>0.873928</td>\n",
              "      <td>0.000000</td>\n",
              "      <td>0.964203</td>\n",
              "    </tr>\n",
              "    <tr>\n",
              "      <th>Gary el Caracol</th>\n",
              "      <td>0.924381</td>\n",
              "      <td>0.895000</td>\n",
              "      <td>0.852161</td>\n",
              "      <td>0.900968</td>\n",
              "      <td>0.920780</td>\n",
              "      <td>0.969443</td>\n",
              "      <td>0.965513</td>\n",
              "      <td>0.969604</td>\n",
              "      <td>0.964203</td>\n",
              "      <td>0.000000</td>\n",
              "    </tr>\n",
              "  </tbody>\n",
              "</table>\n",
              "</div>"
            ],
            "text/plain": [
              "Personaje                         Bob Esponja Pantalones Cuadrados  ...  Gary el Caracol\n",
              "Personaje                                                           ...                 \n",
              "Bob Esponja Pantalones Cuadrados                          0.000000  ...         0.924381\n",
              "Patricio Estrella                                         0.826466  ...         0.895000\n",
              "Calamardo Tentáculos                                      0.918853  ...         0.852161\n",
              "Arenita Mejillas                                          0.838917  ...         0.900968\n",
              "Eugenio H. Cangrejo                                       0.868554  ...         0.920780\n",
              "Sheldon J. Plankton                                       0.872613  ...         0.969443\n",
              "Karen Plankton                                            0.938901  ...         0.965513\n",
              "Perlita Cangrejo                                          0.886072  ...         0.969604\n",
              "Sra. Puff                                                 0.857937  ...         0.964203\n",
              "Gary el Caracol                                           0.924381  ...         0.000000\n",
              "\n",
              "[10 rows x 10 columns]"
            ]
          },
          "metadata": {
            "tags": []
          },
          "execution_count": 16
        }
      ]
    },
    {
      "cell_type": "markdown",
      "metadata": {
        "id": "NaqqQVh-v5_1"
      },
      "source": [
        "# ¿Cuáles son los personajes más parecidos?"
      ]
    },
    {
      "cell_type": "markdown",
      "metadata": {
        "id": "C70lSXNLHAbA"
      },
      "source": [
        "####Los personales mas parecidos son Eugenio H. Cangrejo y Sheldon J. Plankton con una distancia de Coseno de 0.687797 \n",
        "\n",
        "\n"
      ]
    },
    {
      "cell_type": "code",
      "metadata": {
        "colab": {
          "base_uri": "https://localhost:8080/"
        },
        "id": "waTKGMIgHg1v",
        "outputId": "4ef52c23-2bb6-49d2-8a39-e0a6ad7f0012"
      },
      "source": [
        "np.min(dist_cos)"
      ],
      "execution_count": 19,
      "outputs": [
        {
          "output_type": "execute_result",
          "data": {
            "text/plain": [
              "Personaje\n",
              "Bob Esponja Pantalones Cuadrados    0.0\n",
              "Patricio Estrella                   0.0\n",
              "Calamardo Tentáculos                0.0\n",
              "Arenita Mejillas                    0.0\n",
              "Eugenio H. Cangrejo                 0.0\n",
              "Sheldon J. Plankton                 0.0\n",
              "Karen Plankton                      0.0\n",
              "Perlita Cangrejo                    0.0\n",
              "Sra. Puff                           0.0\n",
              "Gary el Caracol                     0.0\n",
              "dtype: float64"
            ]
          },
          "metadata": {
            "tags": []
          },
          "execution_count": 19
        }
      ]
    },
    {
      "cell_type": "markdown",
      "metadata": {
        "id": "GU1D_T0Ov5_2"
      },
      "source": [
        "# ¿Cuáles son los personajes más diferentes?"
      ]
    },
    {
      "cell_type": "markdown",
      "metadata": {
        "id": "TryUPcGsHvdw"
      },
      "source": [
        "#### Los personajes mas diferentes son Perlita Cangrejo y Gary el Caracol con una distancia de coseno de 0.969604"
      ]
    },
    {
      "cell_type": "code",
      "metadata": {
        "id": "4FgiyGALv5_2",
        "colab": {
          "base_uri": "https://localhost:8080/"
        },
        "outputId": "a66bd1b1-07cd-4dcd-aa8a-af9dd2856c14"
      },
      "source": [
        "np.max(dist_cos)"
      ],
      "execution_count": 17,
      "outputs": [
        {
          "output_type": "execute_result",
          "data": {
            "text/plain": [
              "Personaje\n",
              "Bob Esponja Pantalones Cuadrados    0.938901\n",
              "Patricio Estrella                   0.966669\n",
              "Calamardo Tentáculos                0.968076\n",
              "Arenita Mejillas                    0.972093\n",
              "Eugenio H. Cangrejo                 0.920780\n",
              "Sheldon J. Plankton                 0.986743\n",
              "Karen Plankton                      0.984939\n",
              "Perlita Cangrejo                    0.969604\n",
              "Sra. Puff                           0.986743\n",
              "Gary el Caracol                     0.969604\n",
              "dtype: float64"
            ]
          },
          "metadata": {
            "tags": []
          },
          "execution_count": 17
        }
      ]
    }
  ]
}