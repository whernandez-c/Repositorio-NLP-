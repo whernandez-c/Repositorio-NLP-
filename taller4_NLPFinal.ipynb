{
  "nbformat": 4,
  "nbformat_minor": 0,
  "metadata": {
    "kernelspec": {
      "display_name": "Python 3",
      "language": "python",
      "name": "python3"
    },
    "language_info": {
      "codemirror_mode": {
        "name": "ipython",
        "version": 3
      },
      "file_extension": ".py",
      "mimetype": "text/x-python",
      "name": "python",
      "nbconvert_exporter": "python",
      "pygments_lexer": "ipython3",
      "version": "3.7.4"
    },
    "colab": {
      "name": "taller4_NLP.ipynb",
      "provenance": [],
      "collapsed_sections": [],
      "toc_visible": true
    }
  },
  "cells": [
    {
      "cell_type": "markdown",
      "metadata": {
        "id": "zcHhGFpTTHnc"
      },
      "source": [
        "<img src='https://encrypted-tbn0.gstatic.com/images?q=tbn%3AANd9GcQ-VfNtOyJbsaxu43Kztf_cv1mgBG6ZIQZEVw&usqp=CAU'>\n",
        "\n",
        "# Procesamiento de Lenguaje Natural\n",
        "\n",
        "## Taller #4: Pre-Procesamiento de textos y Featuring Engineering \n",
        "`Fecha de entrega: Marzo 18, 2021. (Antes del inicio de la próxima clase).`"
      ]
    },
    {
      "cell_type": "code",
      "metadata": {
        "id": "UOKUa-r2Upna"
      },
      "source": [
        "import re\r\n",
        "import pandas as pd\r\n",
        "from collections import Counter\r\n",
        "\r\n",
        "from nltk.corpus import stopwords"
      ],
      "execution_count": 2,
      "outputs": []
    },
    {
      "cell_type": "code",
      "metadata": {
        "colab": {
          "base_uri": "https://localhost:8080/"
        },
        "id": "kmUBOlYkVwbM",
        "outputId": "fc845ac1-039f-45e0-e6fe-785c8a82d992"
      },
      "source": [
        "import nltk\r\n",
        "nltk.download('stopwords')"
      ],
      "execution_count": 3,
      "outputs": [
        {
          "output_type": "stream",
          "text": [
            "[nltk_data] Downloading package stopwords to /root/nltk_data...\n",
            "[nltk_data]   Unzipping corpora/stopwords.zip.\n"
          ],
          "name": "stdout"
        },
        {
          "output_type": "execute_result",
          "data": {
            "text/plain": [
              "True"
            ]
          },
          "metadata": {
            "tags": []
          },
          "execution_count": 3
        }
      ]
    },
    {
      "cell_type": "code",
      "metadata": {
        "id": "EYoSw30dUsIK"
      },
      "source": [
        "stopwords_sp = stopwords.words('spanish')\r\n",
        "\r\n",
        "from sklearn.feature_extraction.text import CountVectorizer"
      ],
      "execution_count": 4,
      "outputs": []
    },
    {
      "cell_type": "markdown",
      "metadata": {
        "id": "np-bfRLyTHnw"
      },
      "source": [
        "# Punto 1: Pre-Procesamiento\n",
        "\n",
        "- `[5 pts]` Leer el archivo `dialogos.csv` usando `pandas`\n",
        "- `[10 pts]` Crear una nueva columna con el texto en minúscula, sin caracteres especiales ni números y sin palabras vacias\n",
        "- `[7 pts]` Usando la nueva columna, ¿cuáles son las 10 palabras más usadas? "
      ]
    },
    {
      "cell_type": "code",
      "metadata": {
        "colab": {
          "base_uri": "https://localhost:8080/"
        },
        "id": "WSwmxZlWTHnx",
        "outputId": "116c269d-74f5-4018-aff8-2a02c7fb5b39"
      },
      "source": [
        "Dialogos = pd.read_csv('dialogos (1).csv')\r\n",
        "Dialogos.head"
      ],
      "execution_count": 28,
      "outputs": [
        {
          "output_type": "execute_result",
          "data": {
            "text/plain": [
              "<bound method NDFrame.head of                                               Locución\n",
              "0                                       Francamente no\n",
              "1    Lo del canadiense. Por favor, como que vosotro...\n",
              "2    Tienes razón. A lo mejor así te liberas de tu ...\n",
              "3                                      Pues, tú sabrás\n",
              "4                              Para mí que fue Krieger\n",
              "..                                                 ...\n",
              "954                        Yo qué sé, digo yo qué será\n",
              "955  Lo han entendido mal. Las joyas que venden en ...\n",
              "956                            Oooo... Me llamo Vivian\n",
              "957                  ¿De dónde? ¿Del coño de tu madre?\n",
              "958                       Ah, sí esto podría funcionar\n",
              "\n",
              "[959 rows x 1 columns]>"
            ]
          },
          "metadata": {
            "tags": []
          },
          "execution_count": 28
        }
      ]
    },
    {
      "cell_type": "code",
      "metadata": {
        "id": "ZfRPZ5flhmzJ"
      },
      "source": [
        "Dialogos[\"pre-procesado\"] = Dialogos[\"Locución\"]"
      ],
      "execution_count": 46,
      "outputs": []
    },
    {
      "cell_type": "code",
      "metadata": {
        "colab": {
          "base_uri": "https://localhost:8080/",
          "height": 419
        },
        "id": "wlQh9MHFbmVK",
        "outputId": "d3e30ae7-686a-407f-a584-9e6d4122350b"
      },
      "source": [
        "Dialogos[\"pre-procesado\"] = Dialogos[\"pre-procesado\"].str.lower()\r\n",
        "Dialogos"
      ],
      "execution_count": 49,
      "outputs": [
        {
          "output_type": "execute_result",
          "data": {
            "text/html": [
              "<div>\n",
              "<style scoped>\n",
              "    .dataframe tbody tr th:only-of-type {\n",
              "        vertical-align: middle;\n",
              "    }\n",
              "\n",
              "    .dataframe tbody tr th {\n",
              "        vertical-align: top;\n",
              "    }\n",
              "\n",
              "    .dataframe thead th {\n",
              "        text-align: right;\n",
              "    }\n",
              "</style>\n",
              "<table border=\"1\" class=\"dataframe\">\n",
              "  <thead>\n",
              "    <tr style=\"text-align: right;\">\n",
              "      <th></th>\n",
              "      <th>Locución</th>\n",
              "      <th>pre-procesado</th>\n",
              "    </tr>\n",
              "  </thead>\n",
              "  <tbody>\n",
              "    <tr>\n",
              "      <th>0</th>\n",
              "      <td>Francamente no</td>\n",
              "      <td>francamente no</td>\n",
              "    </tr>\n",
              "    <tr>\n",
              "      <th>1</th>\n",
              "      <td>Lo del canadiense. Por favor, como que vosotro...</td>\n",
              "      <td>lo del canadiense. por favor, como que vosotro...</td>\n",
              "    </tr>\n",
              "    <tr>\n",
              "      <th>2</th>\n",
              "      <td>Tienes razón. A lo mejor así te liberas de tu ...</td>\n",
              "      <td>tienes razón. a lo mejor así te liberas de tu ...</td>\n",
              "    </tr>\n",
              "    <tr>\n",
              "      <th>3</th>\n",
              "      <td>Pues, tú sabrás</td>\n",
              "      <td>pues, tú sabrás</td>\n",
              "    </tr>\n",
              "    <tr>\n",
              "      <th>4</th>\n",
              "      <td>Para mí que fue Krieger</td>\n",
              "      <td>para mí que fue krieger</td>\n",
              "    </tr>\n",
              "    <tr>\n",
              "      <th>...</th>\n",
              "      <td>...</td>\n",
              "      <td>...</td>\n",
              "    </tr>\n",
              "    <tr>\n",
              "      <th>954</th>\n",
              "      <td>Yo qué sé, digo yo qué será</td>\n",
              "      <td>yo qué sé, digo yo qué será</td>\n",
              "    </tr>\n",
              "    <tr>\n",
              "      <th>955</th>\n",
              "      <td>Lo han entendido mal. Las joyas que venden en ...</td>\n",
              "      <td>lo han entendido mal. las joyas que venden en ...</td>\n",
              "    </tr>\n",
              "    <tr>\n",
              "      <th>956</th>\n",
              "      <td>Oooo... Me llamo Vivian</td>\n",
              "      <td>oooo... me llamo vivian</td>\n",
              "    </tr>\n",
              "    <tr>\n",
              "      <th>957</th>\n",
              "      <td>¿De dónde? ¿Del coño de tu madre?</td>\n",
              "      <td>¿de dónde? ¿del coño de tu madre?</td>\n",
              "    </tr>\n",
              "    <tr>\n",
              "      <th>958</th>\n",
              "      <td>Ah, sí esto podría funcionar</td>\n",
              "      <td>ah, sí esto podría funcionar</td>\n",
              "    </tr>\n",
              "  </tbody>\n",
              "</table>\n",
              "<p>959 rows × 2 columns</p>\n",
              "</div>"
            ],
            "text/plain": [
              "                                              Locución                                      pre-procesado\n",
              "0                                       Francamente no                                     francamente no\n",
              "1    Lo del canadiense. Por favor, como que vosotro...  lo del canadiense. por favor, como que vosotro...\n",
              "2    Tienes razón. A lo mejor así te liberas de tu ...  tienes razón. a lo mejor así te liberas de tu ...\n",
              "3                                      Pues, tú sabrás                                    pues, tú sabrás\n",
              "4                              Para mí que fue Krieger                            para mí que fue krieger\n",
              "..                                                 ...                                                ...\n",
              "954                        Yo qué sé, digo yo qué será                        yo qué sé, digo yo qué será\n",
              "955  Lo han entendido mal. Las joyas que venden en ...  lo han entendido mal. las joyas que venden en ...\n",
              "956                            Oooo... Me llamo Vivian                            oooo... me llamo vivian\n",
              "957                  ¿De dónde? ¿Del coño de tu madre?                  ¿de dónde? ¿del coño de tu madre?\n",
              "958                       Ah, sí esto podría funcionar                       ah, sí esto podría funcionar\n",
              "\n",
              "[959 rows x 2 columns]"
            ]
          },
          "metadata": {
            "tags": []
          },
          "execution_count": 49
        }
      ]
    },
    {
      "cell_type": "code",
      "metadata": {
        "colab": {
          "base_uri": "https://localhost:8080/",
          "height": 419
        },
        "id": "CnOu3uv3rMf9",
        "outputId": "984981d4-bbae-46e8-8612-dec99b714c3d"
      },
      "source": [
        "for i in Dialogos.index: \r\n",
        "    Dialogos[\"pre-procesado\"][i]= re.sub(r\"[\\W\\d]\", \" \", Dialogos[\"pre-procesado\"][i])\r\n",
        "\r\n",
        "Dialogos"
      ],
      "execution_count": 52,
      "outputs": [
        {
          "output_type": "execute_result",
          "data": {
            "text/html": [
              "<div>\n",
              "<style scoped>\n",
              "    .dataframe tbody tr th:only-of-type {\n",
              "        vertical-align: middle;\n",
              "    }\n",
              "\n",
              "    .dataframe tbody tr th {\n",
              "        vertical-align: top;\n",
              "    }\n",
              "\n",
              "    .dataframe thead th {\n",
              "        text-align: right;\n",
              "    }\n",
              "</style>\n",
              "<table border=\"1\" class=\"dataframe\">\n",
              "  <thead>\n",
              "    <tr style=\"text-align: right;\">\n",
              "      <th></th>\n",
              "      <th>Locución</th>\n",
              "      <th>pre-procesado</th>\n",
              "    </tr>\n",
              "  </thead>\n",
              "  <tbody>\n",
              "    <tr>\n",
              "      <th>0</th>\n",
              "      <td>Francamente no</td>\n",
              "      <td>francamente no</td>\n",
              "    </tr>\n",
              "    <tr>\n",
              "      <th>1</th>\n",
              "      <td>Lo del canadiense. Por favor, como que vosotro...</td>\n",
              "      <td>lo del canadiense  por favor  como que vosotro...</td>\n",
              "    </tr>\n",
              "    <tr>\n",
              "      <th>2</th>\n",
              "      <td>Tienes razón. A lo mejor así te liberas de tu ...</td>\n",
              "      <td>tienes razón  a lo mejor así te liberas de tu ...</td>\n",
              "    </tr>\n",
              "    <tr>\n",
              "      <th>3</th>\n",
              "      <td>Pues, tú sabrás</td>\n",
              "      <td>pues  tú sabrás</td>\n",
              "    </tr>\n",
              "    <tr>\n",
              "      <th>4</th>\n",
              "      <td>Para mí que fue Krieger</td>\n",
              "      <td>para mí que fue krieger</td>\n",
              "    </tr>\n",
              "    <tr>\n",
              "      <th>...</th>\n",
              "      <td>...</td>\n",
              "      <td>...</td>\n",
              "    </tr>\n",
              "    <tr>\n",
              "      <th>954</th>\n",
              "      <td>Yo qué sé, digo yo qué será</td>\n",
              "      <td>yo qué sé  digo yo qué será</td>\n",
              "    </tr>\n",
              "    <tr>\n",
              "      <th>955</th>\n",
              "      <td>Lo han entendido mal. Las joyas que venden en ...</td>\n",
              "      <td>lo han entendido mal  las joyas que venden en ...</td>\n",
              "    </tr>\n",
              "    <tr>\n",
              "      <th>956</th>\n",
              "      <td>Oooo... Me llamo Vivian</td>\n",
              "      <td>oooo    me llamo vivian</td>\n",
              "    </tr>\n",
              "    <tr>\n",
              "      <th>957</th>\n",
              "      <td>¿De dónde? ¿Del coño de tu madre?</td>\n",
              "      <td>de dónde   del coño de tu madre</td>\n",
              "    </tr>\n",
              "    <tr>\n",
              "      <th>958</th>\n",
              "      <td>Ah, sí esto podría funcionar</td>\n",
              "      <td>ah  sí esto podría funcionar</td>\n",
              "    </tr>\n",
              "  </tbody>\n",
              "</table>\n",
              "<p>959 rows × 2 columns</p>\n",
              "</div>"
            ],
            "text/plain": [
              "                                              Locución                                      pre-procesado\n",
              "0                                       Francamente no                                     francamente no\n",
              "1    Lo del canadiense. Por favor, como que vosotro...  lo del canadiense  por favor  como que vosotro...\n",
              "2    Tienes razón. A lo mejor así te liberas de tu ...  tienes razón  a lo mejor así te liberas de tu ...\n",
              "3                                      Pues, tú sabrás                                    pues  tú sabrás\n",
              "4                              Para mí que fue Krieger                            para mí que fue krieger\n",
              "..                                                 ...                                                ...\n",
              "954                        Yo qué sé, digo yo qué será                        yo qué sé  digo yo qué será\n",
              "955  Lo han entendido mal. Las joyas que venden en ...  lo han entendido mal  las joyas que venden en ...\n",
              "956                            Oooo... Me llamo Vivian                            oooo    me llamo vivian\n",
              "957                  ¿De dónde? ¿Del coño de tu madre?                   de dónde   del coño de tu madre \n",
              "958                       Ah, sí esto podría funcionar                       ah  sí esto podría funcionar\n",
              "\n",
              "[959 rows x 2 columns]"
            ]
          },
          "metadata": {
            "tags": []
          },
          "execution_count": 52
        }
      ]
    },
    {
      "cell_type": "code",
      "metadata": {
        "colab": {
          "base_uri": "https://localhost:8080/",
          "height": 419
        },
        "id": "J8UN8_biu_mK",
        "outputId": "2b6e289d-245c-4244-ef57-df359966f8df"
      },
      "source": [
        "for j in Dialogos.index: \r\n",
        "        Dialogos[\"pre-procesado\"][j]=' '.join([i for i in Dialogos[\"pre-procesado\"][j].split() if i not in stopwords_sp])\r\n",
        "\r\n",
        "Dialogos"
      ],
      "execution_count": 54,
      "outputs": [
        {
          "output_type": "execute_result",
          "data": {
            "text/html": [
              "<div>\n",
              "<style scoped>\n",
              "    .dataframe tbody tr th:only-of-type {\n",
              "        vertical-align: middle;\n",
              "    }\n",
              "\n",
              "    .dataframe tbody tr th {\n",
              "        vertical-align: top;\n",
              "    }\n",
              "\n",
              "    .dataframe thead th {\n",
              "        text-align: right;\n",
              "    }\n",
              "</style>\n",
              "<table border=\"1\" class=\"dataframe\">\n",
              "  <thead>\n",
              "    <tr style=\"text-align: right;\">\n",
              "      <th></th>\n",
              "      <th>Locución</th>\n",
              "      <th>pre-procesado</th>\n",
              "    </tr>\n",
              "  </thead>\n",
              "  <tbody>\n",
              "    <tr>\n",
              "      <th>0</th>\n",
              "      <td>Francamente no</td>\n",
              "      <td>francamente</td>\n",
              "    </tr>\n",
              "    <tr>\n",
              "      <th>1</th>\n",
              "      <td>Lo del canadiense. Por favor, como que vosotro...</td>\n",
              "      <td>canadiense favor tiraríais allí si pudieseis</td>\n",
              "    </tr>\n",
              "    <tr>\n",
              "      <th>2</th>\n",
              "      <td>Tienes razón. A lo mejor así te liberas de tu ...</td>\n",
              "      <td>razón mejor así liberas energía nagativa</td>\n",
              "    </tr>\n",
              "    <tr>\n",
              "      <th>3</th>\n",
              "      <td>Pues, tú sabrás</td>\n",
              "      <td>pues sabrás</td>\n",
              "    </tr>\n",
              "    <tr>\n",
              "      <th>4</th>\n",
              "      <td>Para mí que fue Krieger</td>\n",
              "      <td>krieger</td>\n",
              "    </tr>\n",
              "    <tr>\n",
              "      <th>...</th>\n",
              "      <td>...</td>\n",
              "      <td>...</td>\n",
              "    </tr>\n",
              "    <tr>\n",
              "      <th>954</th>\n",
              "      <td>Yo qué sé, digo yo qué será</td>\n",
              "      <td>sé digo</td>\n",
              "    </tr>\n",
              "    <tr>\n",
              "      <th>955</th>\n",
              "      <td>Lo han entendido mal. Las joyas que venden en ...</td>\n",
              "      <td>entendido mal joyas venden canales siquiera in...</td>\n",
              "    </tr>\n",
              "    <tr>\n",
              "      <th>956</th>\n",
              "      <td>Oooo... Me llamo Vivian</td>\n",
              "      <td>oooo llamo vivian</td>\n",
              "    </tr>\n",
              "    <tr>\n",
              "      <th>957</th>\n",
              "      <td>¿De dónde? ¿Del coño de tu madre?</td>\n",
              "      <td>dónde coño madre</td>\n",
              "    </tr>\n",
              "    <tr>\n",
              "      <th>958</th>\n",
              "      <td>Ah, sí esto podría funcionar</td>\n",
              "      <td>ah podría funcionar</td>\n",
              "    </tr>\n",
              "  </tbody>\n",
              "</table>\n",
              "<p>959 rows × 2 columns</p>\n",
              "</div>"
            ],
            "text/plain": [
              "                                              Locución                                      pre-procesado\n",
              "0                                       Francamente no                                        francamente\n",
              "1    Lo del canadiense. Por favor, como que vosotro...       canadiense favor tiraríais allí si pudieseis\n",
              "2    Tienes razón. A lo mejor así te liberas de tu ...           razón mejor así liberas energía nagativa\n",
              "3                                      Pues, tú sabrás                                        pues sabrás\n",
              "4                              Para mí que fue Krieger                                            krieger\n",
              "..                                                 ...                                                ...\n",
              "954                        Yo qué sé, digo yo qué será                                            sé digo\n",
              "955  Lo han entendido mal. Las joyas que venden en ...  entendido mal joyas venden canales siquiera in...\n",
              "956                            Oooo... Me llamo Vivian                                  oooo llamo vivian\n",
              "957                  ¿De dónde? ¿Del coño de tu madre?                                   dónde coño madre\n",
              "958                       Ah, sí esto podría funcionar                                ah podría funcionar\n",
              "\n",
              "[959 rows x 2 columns]"
            ]
          },
          "metadata": {
            "tags": []
          },
          "execution_count": 54
        }
      ]
    },
    {
      "cell_type": "code",
      "metadata": {
        "colab": {
          "base_uri": "https://localhost:8080/",
          "height": 359
        },
        "id": "644K0ddevV2r",
        "outputId": "6152012a-dd12-45cf-9a86-4c3e2a1c3e1c"
      },
      "source": [
        "Palabras_Dialogos = pd.DataFrame(Dialogos[\"pre-procesado\"].str.split(' ', expand=True).stack(), columns=[\"pre-procesado\"])\r\n",
        "Palabras_Dialogos=Palabras_Dialogos.groupby([\"pre-procesado\"])[\"pre-procesado\"].count()\r\n",
        "Palabras_Dialogos=pd.DataFrame(Palabras_Dialogos)\r\n",
        "Palabras_Dialogos.index.name = None\r\n",
        "Palabras_Dialogos.sort_values(by='pre-procesado', ascending=False).head(10)"
      ],
      "execution_count": 56,
      "outputs": [
        {
          "output_type": "execute_result",
          "data": {
            "text/html": [
              "<div>\n",
              "<style scoped>\n",
              "    .dataframe tbody tr th:only-of-type {\n",
              "        vertical-align: middle;\n",
              "    }\n",
              "\n",
              "    .dataframe tbody tr th {\n",
              "        vertical-align: top;\n",
              "    }\n",
              "\n",
              "    .dataframe thead th {\n",
              "        text-align: right;\n",
              "    }\n",
              "</style>\n",
              "<table border=\"1\" class=\"dataframe\">\n",
              "  <thead>\n",
              "    <tr style=\"text-align: right;\">\n",
              "      <th></th>\n",
              "      <th>pre-procesado</th>\n",
              "    </tr>\n",
              "  </thead>\n",
              "  <tbody>\n",
              "    <tr>\n",
              "      <th></th>\n",
              "      <td>48</td>\n",
              "    </tr>\n",
              "    <tr>\n",
              "      <th>bien</th>\n",
              "      <td>36</td>\n",
              "    </tr>\n",
              "    <tr>\n",
              "      <th>si</th>\n",
              "      <td>34</td>\n",
              "    </tr>\n",
              "    <tr>\n",
              "      <th>cómo</th>\n",
              "      <td>34</td>\n",
              "    </tr>\n",
              "    <tr>\n",
              "      <th>así</th>\n",
              "      <td>30</td>\n",
              "    </tr>\n",
              "    <tr>\n",
              "      <th>oh</th>\n",
              "      <td>28</td>\n",
              "    </tr>\n",
              "    <tr>\n",
              "      <th>vamos</th>\n",
              "      <td>26</td>\n",
              "    </tr>\n",
              "    <tr>\n",
              "      <th>sarcasmobol</th>\n",
              "      <td>24</td>\n",
              "    </tr>\n",
              "    <tr>\n",
              "      <th>aquí</th>\n",
              "      <td>24</td>\n",
              "    </tr>\n",
              "    <tr>\n",
              "      <th>bueno</th>\n",
              "      <td>24</td>\n",
              "    </tr>\n",
              "  </tbody>\n",
              "</table>\n",
              "</div>"
            ],
            "text/plain": [
              "             pre-procesado\n",
              "                        48\n",
              "bien                    36\n",
              "si                      34\n",
              "cómo                    34\n",
              "así                     30\n",
              "oh                      28\n",
              "vamos                   26\n",
              "sarcasmobol             24\n",
              "aquí                    24\n",
              "bueno                   24"
            ]
          },
          "metadata": {
            "tags": []
          },
          "execution_count": 56
        }
      ]
    },
    {
      "cell_type": "markdown",
      "metadata": {
        "id": "M__P6ki9THn2"
      },
      "source": [
        "# Punto 2: Representación vectorial\n",
        "\n",
        "- `[15 pts]` Crear una bolsa de palabras (BoW) del corpus usando la columna pre-procesada (Usando la función de `sklearn`)\n",
        "- `[10 pts]` ¿Cuántas palabras hay en el vocabulario? (Usando la función de `sklearn`)"
      ]
    },
    {
      "cell_type": "code",
      "metadata": {
        "colab": {
          "base_uri": "https://localhost:8080/",
          "height": 589
        },
        "id": "U61zWFpPwS4B",
        "outputId": "3c8dbd8a-536c-4f7e-f9e0-855b846da089"
      },
      "source": [
        "from sklearn.feature_extraction.text import CountVectorizer\r\n",
        "count_vect = CountVectorizer()\r\n",
        "Dialogos[\"bow\"] = \"\"\r\n",
        "bow_rep=count_vect.fit_transform(Dialogos[\"pre-procesado\"])\r\n",
        "Dialogos[\"bow\"]=[row for row in bow_rep.toarray()]\r\n",
        "Dialogos"
      ],
      "execution_count": 57,
      "outputs": [
        {
          "output_type": "execute_result",
          "data": {
            "text/html": [
              "<div>\n",
              "<style scoped>\n",
              "    .dataframe tbody tr th:only-of-type {\n",
              "        vertical-align: middle;\n",
              "    }\n",
              "\n",
              "    .dataframe tbody tr th {\n",
              "        vertical-align: top;\n",
              "    }\n",
              "\n",
              "    .dataframe thead th {\n",
              "        text-align: right;\n",
              "    }\n",
              "</style>\n",
              "<table border=\"1\" class=\"dataframe\">\n",
              "  <thead>\n",
              "    <tr style=\"text-align: right;\">\n",
              "      <th></th>\n",
              "      <th>Locución</th>\n",
              "      <th>pre-procesado</th>\n",
              "      <th>bow</th>\n",
              "    </tr>\n",
              "  </thead>\n",
              "  <tbody>\n",
              "    <tr>\n",
              "      <th>0</th>\n",
              "      <td>Francamente no</td>\n",
              "      <td>francamente</td>\n",
              "      <td>[0, 0, 0, 0, 0, 0, 0, 0, 0, 0, 0, 0, 0, 0, 0, ...</td>\n",
              "    </tr>\n",
              "    <tr>\n",
              "      <th>1</th>\n",
              "      <td>Lo del canadiense. Por favor, como que vosotro...</td>\n",
              "      <td>canadiense favor tiraríais allí si pudieseis</td>\n",
              "      <td>[0, 0, 0, 0, 0, 0, 0, 0, 0, 0, 0, 0, 0, 0, 0, ...</td>\n",
              "    </tr>\n",
              "    <tr>\n",
              "      <th>2</th>\n",
              "      <td>Tienes razón. A lo mejor así te liberas de tu ...</td>\n",
              "      <td>razón mejor así liberas energía nagativa</td>\n",
              "      <td>[0, 0, 0, 0, 0, 0, 0, 0, 0, 0, 0, 0, 0, 0, 0, ...</td>\n",
              "    </tr>\n",
              "    <tr>\n",
              "      <th>3</th>\n",
              "      <td>Pues, tú sabrás</td>\n",
              "      <td>pues sabrás</td>\n",
              "      <td>[0, 0, 0, 0, 0, 0, 0, 0, 0, 0, 0, 0, 0, 0, 0, ...</td>\n",
              "    </tr>\n",
              "    <tr>\n",
              "      <th>4</th>\n",
              "      <td>Para mí que fue Krieger</td>\n",
              "      <td>krieger</td>\n",
              "      <td>[0, 0, 0, 0, 0, 0, 0, 0, 0, 0, 0, 0, 0, 0, 0, ...</td>\n",
              "    </tr>\n",
              "    <tr>\n",
              "      <th>...</th>\n",
              "      <td>...</td>\n",
              "      <td>...</td>\n",
              "      <td>...</td>\n",
              "    </tr>\n",
              "    <tr>\n",
              "      <th>954</th>\n",
              "      <td>Yo qué sé, digo yo qué será</td>\n",
              "      <td>sé digo</td>\n",
              "      <td>[0, 0, 0, 0, 0, 0, 0, 0, 0, 0, 0, 0, 0, 0, 0, ...</td>\n",
              "    </tr>\n",
              "    <tr>\n",
              "      <th>955</th>\n",
              "      <td>Lo han entendido mal. Las joyas que venden en ...</td>\n",
              "      <td>entendido mal joyas venden canales siquiera in...</td>\n",
              "      <td>[0, 0, 0, 0, 0, 0, 0, 0, 0, 0, 0, 0, 0, 0, 0, ...</td>\n",
              "    </tr>\n",
              "    <tr>\n",
              "      <th>956</th>\n",
              "      <td>Oooo... Me llamo Vivian</td>\n",
              "      <td>oooo llamo vivian</td>\n",
              "      <td>[0, 0, 0, 0, 0, 0, 0, 0, 0, 0, 0, 0, 0, 0, 0, ...</td>\n",
              "    </tr>\n",
              "    <tr>\n",
              "      <th>957</th>\n",
              "      <td>¿De dónde? ¿Del coño de tu madre?</td>\n",
              "      <td>dónde coño madre</td>\n",
              "      <td>[0, 0, 0, 0, 0, 0, 0, 0, 0, 0, 0, 0, 0, 0, 0, ...</td>\n",
              "    </tr>\n",
              "    <tr>\n",
              "      <th>958</th>\n",
              "      <td>Ah, sí esto podría funcionar</td>\n",
              "      <td>ah podría funcionar</td>\n",
              "      <td>[0, 0, 0, 0, 0, 0, 0, 0, 0, 0, 0, 0, 0, 0, 0, ...</td>\n",
              "    </tr>\n",
              "  </tbody>\n",
              "</table>\n",
              "<p>959 rows × 3 columns</p>\n",
              "</div>"
            ],
            "text/plain": [
              "                                              Locución  ...                                                bow\n",
              "0                                       Francamente no  ...  [0, 0, 0, 0, 0, 0, 0, 0, 0, 0, 0, 0, 0, 0, 0, ...\n",
              "1    Lo del canadiense. Por favor, como que vosotro...  ...  [0, 0, 0, 0, 0, 0, 0, 0, 0, 0, 0, 0, 0, 0, 0, ...\n",
              "2    Tienes razón. A lo mejor así te liberas de tu ...  ...  [0, 0, 0, 0, 0, 0, 0, 0, 0, 0, 0, 0, 0, 0, 0, ...\n",
              "3                                      Pues, tú sabrás  ...  [0, 0, 0, 0, 0, 0, 0, 0, 0, 0, 0, 0, 0, 0, 0, ...\n",
              "4                              Para mí que fue Krieger  ...  [0, 0, 0, 0, 0, 0, 0, 0, 0, 0, 0, 0, 0, 0, 0, ...\n",
              "..                                                 ...  ...                                                ...\n",
              "954                        Yo qué sé, digo yo qué será  ...  [0, 0, 0, 0, 0, 0, 0, 0, 0, 0, 0, 0, 0, 0, 0, ...\n",
              "955  Lo han entendido mal. Las joyas que venden en ...  ...  [0, 0, 0, 0, 0, 0, 0, 0, 0, 0, 0, 0, 0, 0, 0, ...\n",
              "956                            Oooo... Me llamo Vivian  ...  [0, 0, 0, 0, 0, 0, 0, 0, 0, 0, 0, 0, 0, 0, 0, ...\n",
              "957                  ¿De dónde? ¿Del coño de tu madre?  ...  [0, 0, 0, 0, 0, 0, 0, 0, 0, 0, 0, 0, 0, 0, 0, ...\n",
              "958                       Ah, sí esto podría funcionar  ...  [0, 0, 0, 0, 0, 0, 0, 0, 0, 0, 0, 0, 0, 0, 0, ...\n",
              "\n",
              "[959 rows x 3 columns]"
            ]
          },
          "metadata": {
            "tags": []
          },
          "execution_count": 57
        }
      ]
    },
    {
      "cell_type": "code",
      "metadata": {
        "colab": {
          "base_uri": "https://localhost:8080/"
        },
        "id": "Uw9mBhJhwqvD",
        "outputId": "1205a699-06ee-401f-8841-e0f7c58ea1a7"
      },
      "source": [
        "Cantidad_Palabras=count_vect.vocabulary_\r\n",
        "len(Cantidad_Palabras)"
      ],
      "execution_count": 59,
      "outputs": [
        {
          "output_type": "execute_result",
          "data": {
            "text/plain": [
              "2115"
            ]
          },
          "metadata": {
            "tags": []
          },
          "execution_count": 59
        }
      ]
    },
    {
      "cell_type": "code",
      "metadata": {
        "id": "G_TmFlpOTHn3",
        "outputId": "6d1f07b3-6ac6-4a77-c95f-be219196eb62"
      },
      "source": [
        ""
      ],
      "execution_count": null,
      "outputs": [
        {
          "output_type": "execute_result",
          "data": {
            "text/plain": [
              "2115"
            ]
          },
          "metadata": {
            "tags": []
          },
          "execution_count": 7
        }
      ]
    },
    {
      "cell_type": "markdown",
      "metadata": {
        "id": "2sPvLwMyTHn4"
      },
      "source": [
        "# Punto 3: 🤔\n",
        "\n",
        "- `[3pts]` ¿Cuándo es una mejor idea usar una bolsa de n-gramas en vez de una bolsa de palabras?"
      ]
    },
    {
      "cell_type": "markdown",
      "metadata": {
        "id": "Z6FqdIyNxVUr"
      },
      "source": [
        "#### Es mejor idea usar la bolsa de n-gramas en vez de una bolsa de palabras,  cuando se quiera enfocar el orden y la informacion del contexto\r\n"
      ]
    },
    {
      "cell_type": "markdown",
      "metadata": {
        "id": "HGi-TxhKTHn5"
      },
      "source": [
        "# BONUS Punto 4: 😜\n",
        "\n",
        "- `[2pt]` ¿A qué pertenecen los dialogos de ese archivo? "
      ]
    },
    {
      "cell_type": "markdown",
      "metadata": {
        "id": "SG8uLjSN1FeH"
      },
      "source": [
        ""
      ]
    },
    {
      "cell_type": "markdown",
      "metadata": {
        "id": "_dNjUQWs5NUn"
      },
      "source": [
        "####  South Park y Archer"
      ]
    }
  ]
}